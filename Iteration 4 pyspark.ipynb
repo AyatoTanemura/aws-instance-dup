{
 "cells": [
  {
   "cell_type": "markdown",
   "id": "48ac09b5",
   "metadata": {},
   "source": [
    "# Iteration 4"
   ]
  },
  {
   "cell_type": "markdown",
   "id": "71cdc1cc",
   "metadata": {},
   "source": [
    "## Data Import"
   ]
  },
  {
   "cell_type": "code",
   "execution_count": 2,
   "id": "6a7c1d54",
   "metadata": {},
   "outputs": [
    {
     "name": "stderr",
     "output_type": "stream",
     "text": [
      "WARNING: An illegal reflective access operation has occurred\n",
      "WARNING: Illegal reflective access by org.apache.spark.unsafe.Platform (file:/home/ubuntu/spark-3.2.1-bin-hadoop2.7/jars/spark-unsafe_2.12-3.2.1.jar) to constructor java.nio.DirectByteBuffer(long,int)\n",
      "WARNING: Please consider reporting this to the maintainers of org.apache.spark.unsafe.Platform\n",
      "WARNING: Use --illegal-access=warn to enable warnings of further illegal reflective access operations\n",
      "WARNING: All illegal access operations will be denied in a future release\n",
      "Using Spark's default log4j profile: org/apache/spark/log4j-defaults.properties\n",
      "Setting default log level to \"WARN\".\n",
      "To adjust logging level use sc.setLogLevel(newLevel). For SparkR, use setLogLevel(newLevel).\n",
      "22/10/09 02:50:45 WARN NativeCodeLoader: Unable to load native-hadoop library for your platform... using builtin-java classes where applicable\n"
     ]
    }
   ],
   "source": [
    "import findspark\n",
    "findspark.init('/home/ubuntu/spark-3.2.1-bin-hadoop2.7')\n",
    "import pyspark\n",
    "from pyspark.sql import SparkSession\n",
    "spark = SparkSession.builder.appName('basics').getOrCreate()"
   ]
  },
  {
   "cell_type": "code",
   "execution_count": 16,
   "id": "4a1d8d83",
   "metadata": {},
   "outputs": [],
   "source": [
    "df = spark.read.csv('_Data/general_data.csv')"
   ]
  },
  {
   "cell_type": "markdown",
   "id": "c2ffeb73",
   "metadata": {},
   "source": [
    "## Data Exploration"
   ]
  },
  {
   "cell_type": "code",
   "execution_count": 17,
   "id": "86155643",
   "metadata": {},
   "outputs": [
    {
     "name": "stdout",
     "output_type": "stream",
     "text": [
      "+----------+---+---------+-----------------+--------------------+----------------+---------+--------------+-------------+------+--------+--------------------+-------------+-------------+------------------+------+-----------------+-------------+----------------+-----------------+--------------------+--------------+--------------------+--------------------+--------------------+---------------+---------------+--------------+-----------------+\n",
      "|       _c0|_c1|      _c2|              _c3|                 _c4|             _c5|      _c6|           _c7|          _c8|   _c9|    _c10|                _c11|         _c12|         _c13|              _c14|  _c15|             _c16|         _c17|            _c18|             _c19|                _c20|          _c21|                _c22|                _c23|                _c24|           _c25|           _c26|          _c27|             _c28|\n",
      "+----------+---+---------+-----------------+--------------------+----------------+---------+--------------+-------------+------+--------+--------------------+-------------+-------------+------------------+------+-----------------+-------------+----------------+-----------------+--------------------+--------------+--------------------+--------------------+--------------------+---------------+---------------+--------------+-----------------+\n",
      "|EmployeeID|Age|Attrition|   BusinessTravel|          Department|DistanceFromHome|Education|EducationField|EmployeeCount|Gender|JobLevel|             JobRole|MaritalStatus|MonthlyIncome|NumCompaniesWorked|Over18|PercentSalaryHike|StandardHours|StockOptionLevel|TotalWorkingYears|TrainingTimesLast...|YearsAtCompany|YearsSinceLastPro...|YearsWithCurrManager|EnvironmentSatisf...|JobSatisfaction|WorkLifeBalance|JobInvolvement|PerformanceRating|\n",
      "|         1| 51|       No|    Travel_Rarely|               Sales|               6|        2| Life Sciences|            1|Female|       1|Healthcare Repres...|      Married|       131160|                 1|     Y|               11|            8|               0|                1|                   6|             1|                   0|                   0|                   3|              4|              2|             3|                3|\n",
      "|         2| 31|      Yes|Travel_Frequently|Research & Develo...|              10|        1| Life Sciences|            1|Female|       1|  Research Scientist|       Single|        41890|                 0|     Y|               23|            8|               1|                6|                   3|             5|                   1|                   4|                   3|              2|              4|             2|                4|\n",
      "|         3| 32|       No|Travel_Frequently|Research & Develo...|              17|        4|         Other|            1|  Male|       4|     Sales Executive|      Married|       193280|                 1|     Y|               15|            8|               3|                5|                   2|             5|                   0|                   3|                   2|              2|              1|             3|                3|\n",
      "|         4| 38|       No|       Non-Travel|Research & Develo...|               2|        5| Life Sciences|            1|  Male|       3|     Human Resources|      Married|        83210|                 3|     Y|               11|            8|               3|               13|                   5|             8|                   7|                   5|                   4|              4|              3|             2|                3|\n",
      "|         5| 32|       No|    Travel_Rarely|Research & Develo...|              10|        1|       Medical|            1|  Male|       1|     Sales Executive|       Single|        23420|                 4|     Y|               12|            8|               2|                9|                   2|             6|                   0|                   4|                   4|              1|              3|             3|                3|\n",
      "|         6| 46|       No|    Travel_Rarely|Research & Develo...|               8|        3| Life Sciences|            1|Female|       4|   Research Director|      Married|        40710|                 3|     Y|               13|            8|               0|               28|                   5|             7|                   7|                   7|                   3|              2|              2|             3|                3|\n",
      "|         7| 28|      Yes|    Travel_Rarely|Research & Develo...|              11|        2|       Medical|            1|  Male|       2|     Sales Executive|       Single|        58130|                 2|     Y|               20|            8|               1|                5|                   2|             0|                   0|                   0|                   1|              3|              1|             3|                4|\n",
      "|         8| 29|       No|    Travel_Rarely|Research & Develo...|              18|        3| Life Sciences|            1|  Male|       2|     Sales Executive|      Married|        31430|                 2|     Y|               22|            8|               3|               10|                   2|             0|                   0|                   0|                   1|              2|              3|             3|                4|\n",
      "|         9| 31|       No|    Travel_Rarely|Research & Develo...|               1|        3| Life Sciences|            1|  Male|       3|Laboratory Techni...|      Married|        20440|                 0|     Y|               21|            8|               0|               10|                   2|             9|                   7|                   8|                   2|              4|              3|             3|                4|\n",
      "|        10| 25|       No|       Non-Travel|Research & Develo...|               7|        4|       Medical|            1|Female|       4|Laboratory Techni...|     Divorced|       134640|                 1|     Y|               13|            8|               1|                6|                   2|             6|                   1|                   5|                   2|              1|              3|             3|                3|\n",
      "|        11| 45|       No|    Travel_Rarely|Research & Develo...|              17|        2|       Medical|            1|  Male|       2|Laboratory Techni...|      Married|        79910|                 0|     Y|               13|            8|               2|               21|                   2|            20|                   4|                  10|                   3|              4|              3|             2|                3|\n",
      "|        12| 36|       No|    Travel_Rarely|Research & Develo...|              28|        1| Life Sciences|            1|  Male|       1|Laboratory Techni...|      Married|        33770|                 0|     Y|               12|            8|               2|               16|                   2|            15|                  10|                  11|                  NA|              4|              3|             3|                3|\n",
      "|        13| 55|       No|    Travel_Rarely|Research & Develo...|              14|        4| Life Sciences|            1|Female|       1|     Sales Executive|       Single|        55380|                 0|     Y|               17|            8|               0|               37|                   2|            36|                   4|                  13|                   4|              1|              3|             3|                3|\n",
      "|        14| 47|      Yes|       Non-Travel|Research & Develo...|               1|        1|       Medical|            1|  Male|       1|  Research Scientist|      Married|        57620|                 1|     Y|               11|            8|               2|               10|                   4|            10|                   9|                   9|                   1|              2|              2|             2|                3|\n",
      "|        15| 28|       No|    Travel_Rarely|Research & Develo...|               1|        3| Life Sciences|            1|  Male|       1|Manufacturing Dir...|      Married|        25920|                 1|     Y|               14|            8|               0|                5|                   2|             5|                   0|                   4|                   4|              4|              2|             3|                3|\n",
      "|        16| 37|       No|    Travel_Rarely|Research & Develo...|               1|        3| Life Sciences|            1|  Male|       2|Healthcare Repres...|      Married|        53460|                 4|     Y|               11|            8|               0|                7|                   2|             5|                   0|                   1|                   3|              4|              4|             3|                3|\n",
      "|        17| 21|       No|    Travel_Rarely|Research & Develo...|               3|        2| Life Sciences|            1|  Male|       1|Laboratory Techni...|       Single|        42130|                 1|     Y|               12|            8|               3|                3|                   3|             3|                   1|                   0|                   4|              3|              4|             2|                3|\n",
      "|        18| 37|       No|       Non-Travel|Research & Develo...|               1|        3|       Medical|            1|  Male|       2|     Sales Executive|     Divorced|        41270|                 2|     Y|               13|            8|               1|               15|                   2|             5|                   0|                   2|                   1|              4|              3|             3|                3|\n",
      "|        19| 35|       No|    Travel_Rarely|               Sales|               7|        4| Life Sciences|            1|  Male|       1|Sales Representative|     Divorced|        24380|                 7|     Y|               16|            8|               0|               10|                   5|             7|                   6|                   2|                   2|              2|              2|             2|                3|\n",
      "+----------+---+---------+-----------------+--------------------+----------------+---------+--------------+-------------+------+--------+--------------------+-------------+-------------+------------------+------+-----------------+-------------+----------------+-----------------+--------------------+--------------+--------------------+--------------------+--------------------+---------------+---------------+--------------+-----------------+\n",
      "only showing top 20 rows\n",
      "\n"
     ]
    }
   ],
   "source": [
    "df.show()"
   ]
  },
  {
   "cell_type": "code",
   "execution_count": 18,
   "id": "01327b4c",
   "metadata": {},
   "outputs": [
    {
     "data": {
      "text/plain": [
       "['_c0',\n",
       " '_c1',\n",
       " '_c2',\n",
       " '_c3',\n",
       " '_c4',\n",
       " '_c5',\n",
       " '_c6',\n",
       " '_c7',\n",
       " '_c8',\n",
       " '_c9',\n",
       " '_c10',\n",
       " '_c11',\n",
       " '_c12',\n",
       " '_c13',\n",
       " '_c14',\n",
       " '_c15',\n",
       " '_c16',\n",
       " '_c17',\n",
       " '_c18',\n",
       " '_c19',\n",
       " '_c20',\n",
       " '_c21',\n",
       " '_c22',\n",
       " '_c23',\n",
       " '_c24',\n",
       " '_c25',\n",
       " '_c26',\n",
       " '_c27',\n",
       " '_c28']"
      ]
     },
     "execution_count": 18,
     "metadata": {},
     "output_type": "execute_result"
    }
   ],
   "source": [
    "df.columns"
   ]
  },
  {
   "cell_type": "code",
   "execution_count": 19,
   "id": "ea561007",
   "metadata": {},
   "outputs": [
    {
     "name": "stderr",
     "output_type": "stream",
     "text": [
      "\r",
      "[Stage 11:>                                                         (0 + 1) / 1]\r"
     ]
    },
    {
     "name": "stdout",
     "output_type": "stream",
     "text": [
      "+-------+-----------------+------------------+---------+--------------+----------+----------------+------------------+----------------+-------------+------+------------------+--------------------+--------+-----------------+------------------+------+------------------+-------------+------------------+------------------+--------------------+------------------+--------------------+--------------------+------------------+------------------+------------------+------------------+-------------------+\n",
      "|summary|              _c0|               _c1|      _c2|           _c3|       _c4|             _c5|               _c6|             _c7|          _c8|   _c9|              _c10|                _c11|    _c12|             _c13|              _c14|  _c15|              _c16|         _c17|              _c18|              _c19|                _c20|              _c21|                _c22|                _c23|              _c24|              _c25|              _c26|              _c27|               _c28|\n",
      "+-------+-----------------+------------------+---------+--------------+----------+----------------+------------------+----------------+-------------+------+------------------+--------------------+--------+-----------------+------------------+------+------------------+-------------+------------------+------------------+--------------------+------------------+--------------------+--------------------+------------------+------------------+------------------+------------------+-------------------+\n",
      "|  count|             4411|              4411|     4411|          4411|      4411|            4411|              4411|            4411|         4411|  4411|              4411|                4411|    4411|             4411|              4411|  4411|              4411|         4411|              4411|              4411|                4411|              4411|                4411|                4411|              4411|              4411|              4411|              4411|               4411|\n",
      "|   mean|           2205.5|36.923809523809524|     null|          null|      null|9.19251700680272| 2.912925170068027|            null|          1.0|  null|2.0639455782312925|                null|    null|65029.31292517007|2.6948303347756775|  null|15.209523809523809|          8.0|0.7938775510204081|11.279936378095888|  2.7993197278911564|7.0081632653061225|  2.1877551020408164|    4.12312925170068|2.7236031927023947| 2.728246013667426|2.7614364135407135|2.7299319727891156| 3.1537414965986397|\n",
      "| stddev|1273.201672948948| 9.133301271011154|     null|          null|      null|8.10502551890528|1.0239326286269579|            null|          0.0|  null|1.1066888067465823|                null|    null|47068.88855947339| 2.498886888807149|  null| 3.659107516298375|          0.0| 0.851883387522787| 7.782222140911739|  1.2889781697042322| 6.125135444967639|  3.2216993206893796|  3.5673267440707894|1.0927564120537998|1.1012531951148035|0.7062453332062313|0.7113997363278408|0.36074167737076157|\n",
      "|    min|                1|                18|Attrition|BusinessTravel|Department|               1|                 1|  EducationField|            1|Female|                 1|Healthcare Repres...|Divorced|           100080|                 0|Over18|                11|            8|                 0|                 0|                   0|                 0|                   0|                   0|                 1|                 1|                 1|                 1|                  3|\n",
      "|    max|       EmployeeID|               Age|      Yes| Travel_Rarely|     Sales|DistanceFromHome|         Education|Technical Degree|EmployeeCount|  Male|          JobLevel|Sales Representative|  Single|    MonthlyIncome|NumCompaniesWorked|     Y| PercentSalaryHike|StandardHours|  StockOptionLevel| TotalWorkingYears|TrainingTimesLast...|    YearsAtCompany|YearsSinceLastPro...|YearsWithCurrManager|                NA|                NA|   WorkLifeBalance|    JobInvolvement|  PerformanceRating|\n",
      "+-------+-----------------+------------------+---------+--------------+----------+----------------+------------------+----------------+-------------+------+------------------+--------------------+--------+-----------------+------------------+------+------------------+-------------+------------------+------------------+--------------------+------------------+--------------------+--------------------+------------------+------------------+------------------+------------------+-------------------+\n",
      "\n"
     ]
    },
    {
     "name": "stderr",
     "output_type": "stream",
     "text": [
      "\r",
      "                                                                                \r"
     ]
    }
   ],
   "source": [
    "df.describe().show()"
   ]
  },
  {
   "cell_type": "code",
   "execution_count": null,
   "id": "f6c77331",
   "metadata": {},
   "outputs": [],
   "source": []
  }
 ],
 "metadata": {
  "kernelspec": {
   "display_name": "Python 3 (ipykernel)",
   "language": "python",
   "name": "python3"
  },
  "language_info": {
   "codemirror_mode": {
    "name": "ipython",
    "version": 3
   },
   "file_extension": ".py",
   "mimetype": "text/x-python",
   "name": "python",
   "nbconvert_exporter": "python",
   "pygments_lexer": "ipython3",
   "version": "3.10.4"
  }
 },
 "nbformat": 4,
 "nbformat_minor": 5
}
