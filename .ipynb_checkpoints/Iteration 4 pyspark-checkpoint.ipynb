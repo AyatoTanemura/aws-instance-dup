{
 "cells": [
  {
   "cell_type": "markdown",
   "id": "48ac09b5",
   "metadata": {},
   "source": [
    "# Iteration 4"
   ]
  },
  {
   "cell_type": "markdown",
   "id": "71cdc1cc",
   "metadata": {},
   "source": [
    "## Data Import"
   ]
  },
  {
   "cell_type": "code",
   "execution_count": 55,
   "id": "6a7c1d54",
   "metadata": {},
   "outputs": [],
   "source": [
    "import findspark\n",
    "findspark.init('/home/ubuntu/spark-3.2.1-bin-hadoop2.7')\n",
    "import pyspark\n",
    "from pyspark.sql import SparkSession\n",
    "spark = SparkSession.builder.appName('basics').getOrCreate()\n",
    "\n",
    "from pyspark.sql.types import (StructField,StringType,IntegerType,StructType)\n",
    "\n",
    "import pyspark.sql.functions as f\n",
    "\n",
    "from pyspark.ml.feature import StringIndexer\n",
    "\n",
    "from pyspark.sql.functions import col\n",
    "\n",
    "from pyspark.ml.feature import RFormula\n",
    "\n",
    "import pandas as pd\n",
    "import numpy as np\n",
    "import seaborn as sns\n",
    "import matplotlib.pyplot as plt\n",
    "import warnings\n",
    "warnings.filterwarnings(\"ignore\")"
   ]
  },
  {
   "cell_type": "code",
   "execution_count": 3,
   "id": "4a1d8d83",
   "metadata": {},
   "outputs": [],
   "source": [
    "df = spark.read.format(\"csv\").option(\"header\", True).load('_Data/general_data.csv')"
   ]
  },
  {
   "cell_type": "markdown",
   "id": "c2ffeb73",
   "metadata": {},
   "source": [
    "## Data Cheking"
   ]
  },
  {
   "cell_type": "code",
   "execution_count": 4,
   "id": "86155643",
   "metadata": {},
   "outputs": [
    {
     "name": "stderr",
     "output_type": "stream",
     "text": [
      "22/10/11 02:32:38 WARN package: Truncated the string representation of a plan since it was too large. This behavior can be adjusted by setting 'spark.sql.debug.maxToStringFields'.\n"
     ]
    },
    {
     "name": "stdout",
     "output_type": "stream",
     "text": [
      "+----------+---+---------+-----------------+--------------------+----------------+---------+--------------+-------------+------+--------+--------------------+-------------+-------------+------------------+------+-----------------+-------------+----------------+-----------------+---------------------+--------------+-----------------------+--------------------+-----------------------+---------------+---------------+--------------+-----------------+\n",
      "|EmployeeID|Age|Attrition|   BusinessTravel|          Department|DistanceFromHome|Education|EducationField|EmployeeCount|Gender|JobLevel|             JobRole|MaritalStatus|MonthlyIncome|NumCompaniesWorked|Over18|PercentSalaryHike|StandardHours|StockOptionLevel|TotalWorkingYears|TrainingTimesLastYear|YearsAtCompany|YearsSinceLastPromotion|YearsWithCurrManager|EnvironmentSatisfaction|JobSatisfaction|WorkLifeBalance|JobInvolvement|PerformanceRating|\n",
      "+----------+---+---------+-----------------+--------------------+----------------+---------+--------------+-------------+------+--------+--------------------+-------------+-------------+------------------+------+-----------------+-------------+----------------+-----------------+---------------------+--------------+-----------------------+--------------------+-----------------------+---------------+---------------+--------------+-----------------+\n",
      "|         1| 51|       No|    Travel_Rarely|               Sales|               6|        2| Life Sciences|            1|Female|       1|Healthcare Repres...|      Married|       131160|                 1|     Y|               11|            8|               0|                1|                    6|             1|                      0|                   0|                      3|              4|              2|             3|                3|\n",
      "|         2| 31|      Yes|Travel_Frequently|Research & Develo...|              10|        1| Life Sciences|            1|Female|       1|  Research Scientist|       Single|        41890|                 0|     Y|               23|            8|               1|                6|                    3|             5|                      1|                   4|                      3|              2|              4|             2|                4|\n",
      "|         3| 32|       No|Travel_Frequently|Research & Develo...|              17|        4|         Other|            1|  Male|       4|     Sales Executive|      Married|       193280|                 1|     Y|               15|            8|               3|                5|                    2|             5|                      0|                   3|                      2|              2|              1|             3|                3|\n",
      "|         4| 38|       No|       Non-Travel|Research & Develo...|               2|        5| Life Sciences|            1|  Male|       3|     Human Resources|      Married|        83210|                 3|     Y|               11|            8|               3|               13|                    5|             8|                      7|                   5|                      4|              4|              3|             2|                3|\n",
      "|         5| 32|       No|    Travel_Rarely|Research & Develo...|              10|        1|       Medical|            1|  Male|       1|     Sales Executive|       Single|        23420|                 4|     Y|               12|            8|               2|                9|                    2|             6|                      0|                   4|                      4|              1|              3|             3|                3|\n",
      "|         6| 46|       No|    Travel_Rarely|Research & Develo...|               8|        3| Life Sciences|            1|Female|       4|   Research Director|      Married|        40710|                 3|     Y|               13|            8|               0|               28|                    5|             7|                      7|                   7|                      3|              2|              2|             3|                3|\n",
      "|         7| 28|      Yes|    Travel_Rarely|Research & Develo...|              11|        2|       Medical|            1|  Male|       2|     Sales Executive|       Single|        58130|                 2|     Y|               20|            8|               1|                5|                    2|             0|                      0|                   0|                      1|              3|              1|             3|                4|\n",
      "|         8| 29|       No|    Travel_Rarely|Research & Develo...|              18|        3| Life Sciences|            1|  Male|       2|     Sales Executive|      Married|        31430|                 2|     Y|               22|            8|               3|               10|                    2|             0|                      0|                   0|                      1|              2|              3|             3|                4|\n",
      "|         9| 31|       No|    Travel_Rarely|Research & Develo...|               1|        3| Life Sciences|            1|  Male|       3|Laboratory Techni...|      Married|        20440|                 0|     Y|               21|            8|               0|               10|                    2|             9|                      7|                   8|                      2|              4|              3|             3|                4|\n",
      "|        10| 25|       No|       Non-Travel|Research & Develo...|               7|        4|       Medical|            1|Female|       4|Laboratory Techni...|     Divorced|       134640|                 1|     Y|               13|            8|               1|                6|                    2|             6|                      1|                   5|                      2|              1|              3|             3|                3|\n",
      "|        11| 45|       No|    Travel_Rarely|Research & Develo...|              17|        2|       Medical|            1|  Male|       2|Laboratory Techni...|      Married|        79910|                 0|     Y|               13|            8|               2|               21|                    2|            20|                      4|                  10|                      3|              4|              3|             2|                3|\n",
      "|        12| 36|       No|    Travel_Rarely|Research & Develo...|              28|        1| Life Sciences|            1|  Male|       1|Laboratory Techni...|      Married|        33770|                 0|     Y|               12|            8|               2|               16|                    2|            15|                     10|                  11|                     NA|              4|              3|             3|                3|\n",
      "|        13| 55|       No|    Travel_Rarely|Research & Develo...|              14|        4| Life Sciences|            1|Female|       1|     Sales Executive|       Single|        55380|                 0|     Y|               17|            8|               0|               37|                    2|            36|                      4|                  13|                      4|              1|              3|             3|                3|\n",
      "|        14| 47|      Yes|       Non-Travel|Research & Develo...|               1|        1|       Medical|            1|  Male|       1|  Research Scientist|      Married|        57620|                 1|     Y|               11|            8|               2|               10|                    4|            10|                      9|                   9|                      1|              2|              2|             2|                3|\n",
      "|        15| 28|       No|    Travel_Rarely|Research & Develo...|               1|        3| Life Sciences|            1|  Male|       1|Manufacturing Dir...|      Married|        25920|                 1|     Y|               14|            8|               0|                5|                    2|             5|                      0|                   4|                      4|              4|              2|             3|                3|\n",
      "|        16| 37|       No|    Travel_Rarely|Research & Develo...|               1|        3| Life Sciences|            1|  Male|       2|Healthcare Repres...|      Married|        53460|                 4|     Y|               11|            8|               0|                7|                    2|             5|                      0|                   1|                      3|              4|              4|             3|                3|\n",
      "|        17| 21|       No|    Travel_Rarely|Research & Develo...|               3|        2| Life Sciences|            1|  Male|       1|Laboratory Techni...|       Single|        42130|                 1|     Y|               12|            8|               3|                3|                    3|             3|                      1|                   0|                      4|              3|              4|             2|                3|\n",
      "|        18| 37|       No|       Non-Travel|Research & Develo...|               1|        3|       Medical|            1|  Male|       2|     Sales Executive|     Divorced|        41270|                 2|     Y|               13|            8|               1|               15|                    2|             5|                      0|                   2|                      1|              4|              3|             3|                3|\n",
      "|        19| 35|       No|    Travel_Rarely|               Sales|               7|        4| Life Sciences|            1|  Male|       1|Sales Representative|     Divorced|        24380|                 7|     Y|               16|            8|               0|               10|                    5|             7|                      6|                   2|                      2|              2|              2|             2|                3|\n",
      "|        20| 38|       No|    Travel_Rarely|Research & Develo...|               8|        3| Life Sciences|            1|Female|       1|             Manager|     Divorced|        68700|                 1|     Y|               11|            8|               1|                8|                    5|             8|                      7|                   7|                      1|              1|              3|             3|                3|\n",
      "+----------+---+---------+-----------------+--------------------+----------------+---------+--------------+-------------+------+--------+--------------------+-------------+-------------+------------------+------+-----------------+-------------+----------------+-----------------+---------------------+--------------+-----------------------+--------------------+-----------------------+---------------+---------------+--------------+-----------------+\n",
      "only showing top 20 rows\n",
      "\n"
     ]
    }
   ],
   "source": [
    "df.show()"
   ]
  },
  {
   "cell_type": "code",
   "execution_count": 5,
   "id": "01327b4c",
   "metadata": {},
   "outputs": [
    {
     "data": {
      "text/plain": [
       "['EmployeeID',\n",
       " 'Age',\n",
       " 'Attrition',\n",
       " 'BusinessTravel',\n",
       " 'Department',\n",
       " 'DistanceFromHome',\n",
       " 'Education',\n",
       " 'EducationField',\n",
       " 'EmployeeCount',\n",
       " 'Gender',\n",
       " 'JobLevel',\n",
       " 'JobRole',\n",
       " 'MaritalStatus',\n",
       " 'MonthlyIncome',\n",
       " 'NumCompaniesWorked',\n",
       " 'Over18',\n",
       " 'PercentSalaryHike',\n",
       " 'StandardHours',\n",
       " 'StockOptionLevel',\n",
       " 'TotalWorkingYears',\n",
       " 'TrainingTimesLastYear',\n",
       " 'YearsAtCompany',\n",
       " 'YearsSinceLastPromotion',\n",
       " 'YearsWithCurrManager',\n",
       " 'EnvironmentSatisfaction',\n",
       " 'JobSatisfaction',\n",
       " 'WorkLifeBalance',\n",
       " 'JobInvolvement',\n",
       " 'PerformanceRating']"
      ]
     },
     "execution_count": 5,
     "metadata": {},
     "output_type": "execute_result"
    }
   ],
   "source": [
    "df.columns"
   ]
  },
  {
   "cell_type": "code",
   "execution_count": 6,
   "id": "ea561007",
   "metadata": {},
   "outputs": [
    {
     "name": "stderr",
     "output_type": "stream",
     "text": [
      "[Stage 4:>                                                          (0 + 1) / 1]\r"
     ]
    },
    {
     "name": "stdout",
     "output_type": "stream",
     "text": [
      "+-------+-----------------+------------------+---------+--------------+---------------+----------------+------------------+----------------+-------------+------+------------------+--------------------+-------------+-----------------+------------------+------+------------------+-------------+------------------+------------------+---------------------+------------------+-----------------------+--------------------+-----------------------+------------------+------------------+------------------+-------------------+\n",
      "|summary|       EmployeeID|               Age|Attrition|BusinessTravel|     Department|DistanceFromHome|         Education|  EducationField|EmployeeCount|Gender|          JobLevel|             JobRole|MaritalStatus|    MonthlyIncome|NumCompaniesWorked|Over18| PercentSalaryHike|StandardHours|  StockOptionLevel| TotalWorkingYears|TrainingTimesLastYear|    YearsAtCompany|YearsSinceLastPromotion|YearsWithCurrManager|EnvironmentSatisfaction|   JobSatisfaction|   WorkLifeBalance|    JobInvolvement|  PerformanceRating|\n",
      "+-------+-----------------+------------------+---------+--------------+---------------+----------------+------------------+----------------+-------------+------+------------------+--------------------+-------------+-----------------+------------------+------+------------------+-------------+------------------+------------------+---------------------+------------------+-----------------------+--------------------+-----------------------+------------------+------------------+------------------+-------------------+\n",
      "|  count|             4410|              4410|     4410|          4410|           4410|            4410|              4410|            4410|         4410|  4410|              4410|                4410|         4410|             4410|              4410|  4410|              4410|         4410|              4410|              4410|                 4410|              4410|                   4410|                4410|                   4410|              4410|              4410|              4410|               4410|\n",
      "|   mean|           2205.5|36.923809523809524|     null|          null|           null|9.19251700680272| 2.912925170068027|            null|          1.0|  null|2.0639455782312925|                null|         null|65029.31292517007|2.6948303347756775|  null|15.209523809523809|          8.0|0.7938775510204081|11.279936378095888|   2.7993197278911564|7.0081632653061225|     2.1877551020408164|    4.12312925170068|     2.7236031927023947| 2.728246013667426|2.7614364135407135|2.7299319727891156| 3.1537414965986397|\n",
      "| stddev|1273.201672948948| 9.133301271011154|     null|          null|           null|8.10502551890528|1.0239326286269579|            null|          0.0|  null|1.1066888067465823|                null|         null|47068.88855947339| 2.498886888807149|  null| 3.659107516298375|          0.0| 0.851883387522787| 7.782222140911739|   1.2889781697042322| 6.125135444967639|     3.2216993206893796|  3.5673267440707894|     1.0927564120537998|1.1012531951148035|0.7062453332062313|0.7113997363278408|0.36074167737076157|\n",
      "|    min|                1|                18|       No|    Non-Travel|Human Resources|               1|                 1| Human Resources|            1|Female|                 1|Healthcare Repres...|     Divorced|           100080|                 0|     Y|                11|            8|                 0|                 0|                    0|                 0|                      0|                   0|                      1|                 1|                 1|                 1|                  3|\n",
      "|    max|              999|                60|      Yes| Travel_Rarely|          Sales|               9|                 5|Technical Degree|            1|  Male|                 5|Sales Representative|       Single|            99980|                NA|     Y|                25|            8|                 3|                NA|                    6|                 9|                      9|                   9|                     NA|                NA|                NA|                 4|                  4|\n",
      "+-------+-----------------+------------------+---------+--------------+---------------+----------------+------------------+----------------+-------------+------+------------------+--------------------+-------------+-----------------+------------------+------+------------------+-------------+------------------+------------------+---------------------+------------------+-----------------------+--------------------+-----------------------+------------------+------------------+------------------+-------------------+\n",
      "\n"
     ]
    },
    {
     "name": "stderr",
     "output_type": "stream",
     "text": [
      "\r",
      "                                                                                \r"
     ]
    }
   ],
   "source": [
    "df.describe().show()"
   ]
  },
  {
   "cell_type": "code",
   "execution_count": 7,
   "id": "f6c77331",
   "metadata": {},
   "outputs": [
    {
     "name": "stdout",
     "output_type": "stream",
     "text": [
      "root\n",
      " |-- EmployeeID: string (nullable = true)\n",
      " |-- Age: string (nullable = true)\n",
      " |-- Attrition: string (nullable = true)\n",
      " |-- BusinessTravel: string (nullable = true)\n",
      " |-- Department: string (nullable = true)\n",
      " |-- DistanceFromHome: string (nullable = true)\n",
      " |-- Education: string (nullable = true)\n",
      " |-- EducationField: string (nullable = true)\n",
      " |-- EmployeeCount: string (nullable = true)\n",
      " |-- Gender: string (nullable = true)\n",
      " |-- JobLevel: string (nullable = true)\n",
      " |-- JobRole: string (nullable = true)\n",
      " |-- MaritalStatus: string (nullable = true)\n",
      " |-- MonthlyIncome: string (nullable = true)\n",
      " |-- NumCompaniesWorked: string (nullable = true)\n",
      " |-- Over18: string (nullable = true)\n",
      " |-- PercentSalaryHike: string (nullable = true)\n",
      " |-- StandardHours: string (nullable = true)\n",
      " |-- StockOptionLevel: string (nullable = true)\n",
      " |-- TotalWorkingYears: string (nullable = true)\n",
      " |-- TrainingTimesLastYear: string (nullable = true)\n",
      " |-- YearsAtCompany: string (nullable = true)\n",
      " |-- YearsSinceLastPromotion: string (nullable = true)\n",
      " |-- YearsWithCurrManager: string (nullable = true)\n",
      " |-- EnvironmentSatisfaction: string (nullable = true)\n",
      " |-- JobSatisfaction: string (nullable = true)\n",
      " |-- WorkLifeBalance: string (nullable = true)\n",
      " |-- JobInvolvement: string (nullable = true)\n",
      " |-- PerformanceRating: string (nullable = true)\n",
      "\n"
     ]
    }
   ],
   "source": [
    "df.printSchema()"
   ]
  },
  {
   "cell_type": "markdown",
   "id": "d2d9d216",
   "metadata": {},
   "source": [
    "## Data Manipulation"
   ]
  },
  {
   "cell_type": "code",
   "execution_count": 9,
   "id": "89c8c32e",
   "metadata": {},
   "outputs": [
    {
     "data": {
      "text/plain": [
       "Row(EmployeeID='1', Age='51', Attrition='No', BusinessTravel='Travel_Rarely', Department='Sales', DistanceFromHome='6', Education='2', EducationField='Life Sciences', EmployeeCount='1', Gender='Female', JobLevel='1', JobRole='Healthcare Representative', MaritalStatus='Married', MonthlyIncome='131160', NumCompaniesWorked='1', Over18='Y', PercentSalaryHike='11', StandardHours='8', StockOptionLevel='0', TotalWorkingYears='1', TrainingTimesLastYear='6', YearsAtCompany='1', YearsSinceLastPromotion='0', YearsWithCurrManager='0', EnvironmentSatisfaction='3', JobSatisfaction='4', WorkLifeBalance='2', JobInvolvement='3', PerformanceRating='3')"
      ]
     },
     "execution_count": 9,
     "metadata": {},
     "output_type": "execute_result"
    }
   ],
   "source": [
    "df.head()"
   ]
  },
  {
   "cell_type": "markdown",
   "id": "3c3fe061",
   "metadata": {},
   "source": [
    "### Data type manipulation"
   ]
  },
  {
   "cell_type": "code",
   "execution_count": 10,
   "id": "7a24262f",
   "metadata": {},
   "outputs": [],
   "source": [
    "data_schema = [StructField('EmployeeID',IntegerType(),True),\n",
    "               StructField('Age',IntegerType(),True),\n",
    "               StructField('Attrition',StringType(),True),\n",
    "               StructField('BusinessTravel',StringType(),True),\n",
    "               StructField('Department',StringType(),True),\n",
    "               StructField('DistanceFromHome',IntegerType(),True),\n",
    "               StructField('Education',IntegerType(),True),\n",
    "               StructField('EducationField',StringType(),True),\n",
    "               StructField('EmployeeCount',IntegerType(),True),\n",
    "               StructField('Gender',StringType(),True),\n",
    "               StructField('JobLevel',IntegerType(),True),\n",
    "               StructField('JobRole',StringType(),True),\n",
    "               StructField('MaritalStatus',StringType(),True),\n",
    "               StructField('MonthlyIncome',IntegerType(),True),\n",
    "               StructField('NumCompaniesWorked',IntegerType(),True),\n",
    "               StructField('Over18',StringType(),True),\n",
    "               StructField('PercentSalaryHike',IntegerType(),True),\n",
    "               StructField('StandardHours',IntegerType(),True),\n",
    "               StructField('StockOptionLevel',IntegerType(),True),\n",
    "               StructField('TotalWorkingYears',IntegerType(),True),\n",
    "               StructField('TrainingTimesLastYear',IntegerType(),True),\n",
    "               StructField('YearsAtCompany',IntegerType(),True),\n",
    "               StructField('YearsSinceLastPromotion',IntegerType(),True),\n",
    "               StructField('YearsWithCurrManager',IntegerType(),True),\n",
    "               StructField('EnvironmentSatisfaction',IntegerType(),True),\n",
    "               StructField('JobSatisfaction',IntegerType(),True),\n",
    "               StructField('WorkLifeBalance',IntegerType(),True),\n",
    "               StructField('JobInvolvement',IntegerType(),True),\n",
    "               StructField('PerformanceRating',IntegerType(),True)]\n",
    "\n",
    "final_struct = StructType(fields=data_schema)"
   ]
  },
  {
   "cell_type": "code",
   "execution_count": 11,
   "id": "74f4ac56",
   "metadata": {},
   "outputs": [],
   "source": [
    "_df = spark.read.csv(\"_Data/general_data.csv\", header =True, schema=final_struct)"
   ]
  },
  {
   "cell_type": "code",
   "execution_count": 12,
   "id": "dccdc72a",
   "metadata": {},
   "outputs": [
    {
     "name": "stdout",
     "output_type": "stream",
     "text": [
      "root\n",
      " |-- EmployeeID: integer (nullable = true)\n",
      " |-- Age: integer (nullable = true)\n",
      " |-- Attrition: string (nullable = true)\n",
      " |-- BusinessTravel: string (nullable = true)\n",
      " |-- Department: string (nullable = true)\n",
      " |-- DistanceFromHome: integer (nullable = true)\n",
      " |-- Education: integer (nullable = true)\n",
      " |-- EducationField: string (nullable = true)\n",
      " |-- EmployeeCount: integer (nullable = true)\n",
      " |-- Gender: string (nullable = true)\n",
      " |-- JobLevel: integer (nullable = true)\n",
      " |-- JobRole: string (nullable = true)\n",
      " |-- MaritalStatus: string (nullable = true)\n",
      " |-- MonthlyIncome: integer (nullable = true)\n",
      " |-- NumCompaniesWorked: integer (nullable = true)\n",
      " |-- Over18: string (nullable = true)\n",
      " |-- PercentSalaryHike: integer (nullable = true)\n",
      " |-- StandardHours: integer (nullable = true)\n",
      " |-- StockOptionLevel: integer (nullable = true)\n",
      " |-- TotalWorkingYears: integer (nullable = true)\n",
      " |-- TrainingTimesLastYear: integer (nullable = true)\n",
      " |-- YearsAtCompany: integer (nullable = true)\n",
      " |-- YearsSinceLastPromotion: integer (nullable = true)\n",
      " |-- YearsWithCurrManager: integer (nullable = true)\n",
      " |-- EnvironmentSatisfaction: integer (nullable = true)\n",
      " |-- JobSatisfaction: integer (nullable = true)\n",
      " |-- WorkLifeBalance: integer (nullable = true)\n",
      " |-- JobInvolvement: integer (nullable = true)\n",
      " |-- PerformanceRating: integer (nullable = true)\n",
      "\n"
     ]
    }
   ],
   "source": [
    "_df.printSchema()"
   ]
  },
  {
   "cell_type": "markdown",
   "id": "6fe07f6d",
   "metadata": {},
   "source": [
    "### Cheking Null Value"
   ]
  },
  {
   "cell_type": "code",
   "execution_count": 13,
   "id": "0e23ffcb",
   "metadata": {},
   "outputs": [
    {
     "name": "stdout",
     "output_type": "stream",
     "text": [
      "+----------+---+---------+--------------+----------+----------------+---------+--------------+-------------+------+--------+-------+-------------+-------------+------------------+------+-----------------+-------------+----------------+-----------------+---------------------+--------------+-----------------------+--------------------+-----------------------+---------------+---------------+--------------+-----------------+\n",
      "|EmployeeID|Age|Attrition|BusinessTravel|Department|DistanceFromHome|Education|EducationField|EmployeeCount|Gender|JobLevel|JobRole|MaritalStatus|MonthlyIncome|NumCompaniesWorked|Over18|PercentSalaryHike|StandardHours|StockOptionLevel|TotalWorkingYears|TrainingTimesLastYear|YearsAtCompany|YearsSinceLastPromotion|YearsWithCurrManager|EnvironmentSatisfaction|JobSatisfaction|WorkLifeBalance|JobInvolvement|PerformanceRating|\n",
      "+----------+---+---------+--------------+----------+----------------+---------+--------------+-------------+------+--------+-------+-------------+-------------+------------------+------+-----------------+-------------+----------------+-----------------+---------------------+--------------+-----------------------+--------------------+-----------------------+---------------+---------------+--------------+-----------------+\n",
      "+----------+---+---------+--------------+----------+----------------+---------+--------------+-------------+------+--------+-------+-------------+-------------+------------------+------+-----------------+-------------+----------------+-----------------+---------------------+--------------+-----------------------+--------------------+-----------------------+---------------+---------------+--------------+-----------------+\n",
      "\n",
      "+----------+---+---------+--------------+----------+----------------+---------+--------------+-------------+------+--------+-------+-------------+-------------+------------------+------+-----------------+-------------+----------------+-----------------+---------------------+--------------+-----------------------+--------------------+-----------------------+---------------+---------------+--------------+-----------------+\n",
      "|EmployeeID|Age|Attrition|BusinessTravel|Department|DistanceFromHome|Education|EducationField|EmployeeCount|Gender|JobLevel|JobRole|MaritalStatus|MonthlyIncome|NumCompaniesWorked|Over18|PercentSalaryHike|StandardHours|StockOptionLevel|TotalWorkingYears|TrainingTimesLastYear|YearsAtCompany|YearsSinceLastPromotion|YearsWithCurrManager|EnvironmentSatisfaction|JobSatisfaction|WorkLifeBalance|JobInvolvement|PerformanceRating|\n",
      "+----------+---+---------+--------------+----------+----------------+---------+--------------+-------------+------+--------+-------+-------------+-------------+------------------+------+-----------------+-------------+----------------+-----------------+---------------------+--------------+-----------------------+--------------------+-----------------------+---------------+---------------+--------------+-----------------+\n",
      "+----------+---+---------+--------------+----------+----------------+---------+--------------+-------------+------+--------+-------+-------------+-------------+------------------+------+-----------------+-------------+----------------+-----------------+---------------------+--------------+-----------------------+--------------------+-----------------------+---------------+---------------+--------------+-----------------+\n",
      "\n",
      "+----------+---+---------+--------------+----------+----------------+---------+--------------+-------------+------+--------+-------+-------------+-------------+------------------+------+-----------------+-------------+----------------+-----------------+---------------------+--------------+-----------------------+--------------------+-----------------------+---------------+---------------+--------------+-----------------+\n",
      "|EmployeeID|Age|Attrition|BusinessTravel|Department|DistanceFromHome|Education|EducationField|EmployeeCount|Gender|JobLevel|JobRole|MaritalStatus|MonthlyIncome|NumCompaniesWorked|Over18|PercentSalaryHike|StandardHours|StockOptionLevel|TotalWorkingYears|TrainingTimesLastYear|YearsAtCompany|YearsSinceLastPromotion|YearsWithCurrManager|EnvironmentSatisfaction|JobSatisfaction|WorkLifeBalance|JobInvolvement|PerformanceRating|\n",
      "+----------+---+---------+--------------+----------+----------------+---------+--------------+-------------+------+--------+-------+-------------+-------------+------------------+------+-----------------+-------------+----------------+-----------------+---------------------+--------------+-----------------------+--------------------+-----------------------+---------------+---------------+--------------+-----------------+\n",
      "+----------+---+---------+--------------+----------+----------------+---------+--------------+-------------+------+--------+-------+-------------+-------------+------------------+------+-----------------+-------------+----------------+-----------------+---------------------+--------------+-----------------------+--------------------+-----------------------+---------------+---------------+--------------+-----------------+\n",
      "\n",
      "+----------+---+---------+--------------+----------+----------------+---------+--------------+-------------+------+--------+-------+-------------+-------------+------------------+------+-----------------+-------------+----------------+-----------------+---------------------+--------------+-----------------------+--------------------+-----------------------+---------------+---------------+--------------+-----------------+\n",
      "|EmployeeID|Age|Attrition|BusinessTravel|Department|DistanceFromHome|Education|EducationField|EmployeeCount|Gender|JobLevel|JobRole|MaritalStatus|MonthlyIncome|NumCompaniesWorked|Over18|PercentSalaryHike|StandardHours|StockOptionLevel|TotalWorkingYears|TrainingTimesLastYear|YearsAtCompany|YearsSinceLastPromotion|YearsWithCurrManager|EnvironmentSatisfaction|JobSatisfaction|WorkLifeBalance|JobInvolvement|PerformanceRating|\n",
      "+----------+---+---------+--------------+----------+----------------+---------+--------------+-------------+------+--------+-------+-------------+-------------+------------------+------+-----------------+-------------+----------------+-----------------+---------------------+--------------+-----------------------+--------------------+-----------------------+---------------+---------------+--------------+-----------------+\n",
      "+----------+---+---------+--------------+----------+----------------+---------+--------------+-------------+------+--------+-------+-------------+-------------+------------------+------+-----------------+-------------+----------------+-----------------+---------------------+--------------+-----------------------+--------------------+-----------------------+---------------+---------------+--------------+-----------------+\n",
      "\n",
      "+----------+---+---------+--------------+----------+----------------+---------+--------------+-------------+------+--------+-------+-------------+-------------+------------------+------+-----------------+-------------+----------------+-----------------+---------------------+--------------+-----------------------+--------------------+-----------------------+---------------+---------------+--------------+-----------------+\n",
      "|EmployeeID|Age|Attrition|BusinessTravel|Department|DistanceFromHome|Education|EducationField|EmployeeCount|Gender|JobLevel|JobRole|MaritalStatus|MonthlyIncome|NumCompaniesWorked|Over18|PercentSalaryHike|StandardHours|StockOptionLevel|TotalWorkingYears|TrainingTimesLastYear|YearsAtCompany|YearsSinceLastPromotion|YearsWithCurrManager|EnvironmentSatisfaction|JobSatisfaction|WorkLifeBalance|JobInvolvement|PerformanceRating|\n",
      "+----------+---+---------+--------------+----------+----------------+---------+--------------+-------------+------+--------+-------+-------------+-------------+------------------+------+-----------------+-------------+----------------+-----------------+---------------------+--------------+-----------------------+--------------------+-----------------------+---------------+---------------+--------------+-----------------+\n",
      "+----------+---+---------+--------------+----------+----------------+---------+--------------+-------------+------+--------+-------+-------------+-------------+------------------+------+-----------------+-------------+----------------+-----------------+---------------------+--------------+-----------------------+--------------------+-----------------------+---------------+---------------+--------------+-----------------+\n",
      "\n"
     ]
    },
    {
     "name": "stdout",
     "output_type": "stream",
     "text": [
      "+----------+---+---------+--------------+----------+----------------+---------+--------------+-------------+------+--------+-------+-------------+-------------+------------------+------+-----------------+-------------+----------------+-----------------+---------------------+--------------+-----------------------+--------------------+-----------------------+---------------+---------------+--------------+-----------------+\n",
      "|EmployeeID|Age|Attrition|BusinessTravel|Department|DistanceFromHome|Education|EducationField|EmployeeCount|Gender|JobLevel|JobRole|MaritalStatus|MonthlyIncome|NumCompaniesWorked|Over18|PercentSalaryHike|StandardHours|StockOptionLevel|TotalWorkingYears|TrainingTimesLastYear|YearsAtCompany|YearsSinceLastPromotion|YearsWithCurrManager|EnvironmentSatisfaction|JobSatisfaction|WorkLifeBalance|JobInvolvement|PerformanceRating|\n",
      "+----------+---+---------+--------------+----------+----------------+---------+--------------+-------------+------+--------+-------+-------------+-------------+------------------+------+-----------------+-------------+----------------+-----------------+---------------------+--------------+-----------------------+--------------------+-----------------------+---------------+---------------+--------------+-----------------+\n",
      "+----------+---+---------+--------------+----------+----------------+---------+--------------+-------------+------+--------+-------+-------------+-------------+------------------+------+-----------------+-------------+----------------+-----------------+---------------------+--------------+-----------------------+--------------------+-----------------------+---------------+---------------+--------------+-----------------+\n",
      "\n",
      "+----------+---+---------+--------------+----------+----------------+---------+--------------+-------------+------+--------+-------+-------------+-------------+------------------+------+-----------------+-------------+----------------+-----------------+---------------------+--------------+-----------------------+--------------------+-----------------------+---------------+---------------+--------------+-----------------+\n",
      "|EmployeeID|Age|Attrition|BusinessTravel|Department|DistanceFromHome|Education|EducationField|EmployeeCount|Gender|JobLevel|JobRole|MaritalStatus|MonthlyIncome|NumCompaniesWorked|Over18|PercentSalaryHike|StandardHours|StockOptionLevel|TotalWorkingYears|TrainingTimesLastYear|YearsAtCompany|YearsSinceLastPromotion|YearsWithCurrManager|EnvironmentSatisfaction|JobSatisfaction|WorkLifeBalance|JobInvolvement|PerformanceRating|\n",
      "+----------+---+---------+--------------+----------+----------------+---------+--------------+-------------+------+--------+-------+-------------+-------------+------------------+------+-----------------+-------------+----------------+-----------------+---------------------+--------------+-----------------------+--------------------+-----------------------+---------------+---------------+--------------+-----------------+\n",
      "+----------+---+---------+--------------+----------+----------------+---------+--------------+-------------+------+--------+-------+-------------+-------------+------------------+------+-----------------+-------------+----------------+-----------------+---------------------+--------------+-----------------------+--------------------+-----------------------+---------------+---------------+--------------+-----------------+\n",
      "\n",
      "+----------+---+---------+--------------+----------+----------------+---------+--------------+-------------+------+--------+-------+-------------+-------------+------------------+------+-----------------+-------------+----------------+-----------------+---------------------+--------------+-----------------------+--------------------+-----------------------+---------------+---------------+--------------+-----------------+\n",
      "|EmployeeID|Age|Attrition|BusinessTravel|Department|DistanceFromHome|Education|EducationField|EmployeeCount|Gender|JobLevel|JobRole|MaritalStatus|MonthlyIncome|NumCompaniesWorked|Over18|PercentSalaryHike|StandardHours|StockOptionLevel|TotalWorkingYears|TrainingTimesLastYear|YearsAtCompany|YearsSinceLastPromotion|YearsWithCurrManager|EnvironmentSatisfaction|JobSatisfaction|WorkLifeBalance|JobInvolvement|PerformanceRating|\n",
      "+----------+---+---------+--------------+----------+----------------+---------+--------------+-------------+------+--------+-------+-------------+-------------+------------------+------+-----------------+-------------+----------------+-----------------+---------------------+--------------+-----------------------+--------------------+-----------------------+---------------+---------------+--------------+-----------------+\n",
      "+----------+---+---------+--------------+----------+----------------+---------+--------------+-------------+------+--------+-------+-------------+-------------+------------------+------+-----------------+-------------+----------------+-----------------+---------------------+--------------+-----------------------+--------------------+-----------------------+---------------+---------------+--------------+-----------------+\n",
      "\n",
      "+----------+---+---------+--------------+----------+----------------+---------+--------------+-------------+------+--------+-------+-------------+-------------+------------------+------+-----------------+-------------+----------------+-----------------+---------------------+--------------+-----------------------+--------------------+-----------------------+---------------+---------------+--------------+-----------------+\n",
      "|EmployeeID|Age|Attrition|BusinessTravel|Department|DistanceFromHome|Education|EducationField|EmployeeCount|Gender|JobLevel|JobRole|MaritalStatus|MonthlyIncome|NumCompaniesWorked|Over18|PercentSalaryHike|StandardHours|StockOptionLevel|TotalWorkingYears|TrainingTimesLastYear|YearsAtCompany|YearsSinceLastPromotion|YearsWithCurrManager|EnvironmentSatisfaction|JobSatisfaction|WorkLifeBalance|JobInvolvement|PerformanceRating|\n",
      "+----------+---+---------+--------------+----------+----------------+---------+--------------+-------------+------+--------+-------+-------------+-------------+------------------+------+-----------------+-------------+----------------+-----------------+---------------------+--------------+-----------------------+--------------------+-----------------------+---------------+---------------+--------------+-----------------+\n",
      "+----------+---+---------+--------------+----------+----------------+---------+--------------+-------------+------+--------+-------+-------------+-------------+------------------+------+-----------------+-------------+----------------+-----------------+---------------------+--------------+-----------------------+--------------------+-----------------------+---------------+---------------+--------------+-----------------+\n",
      "\n",
      "+----------+---+---------+--------------+----------+----------------+---------+--------------+-------------+------+--------+-------+-------------+-------------+------------------+------+-----------------+-------------+----------------+-----------------+---------------------+--------------+-----------------------+--------------------+-----------------------+---------------+---------------+--------------+-----------------+\n",
      "|EmployeeID|Age|Attrition|BusinessTravel|Department|DistanceFromHome|Education|EducationField|EmployeeCount|Gender|JobLevel|JobRole|MaritalStatus|MonthlyIncome|NumCompaniesWorked|Over18|PercentSalaryHike|StandardHours|StockOptionLevel|TotalWorkingYears|TrainingTimesLastYear|YearsAtCompany|YearsSinceLastPromotion|YearsWithCurrManager|EnvironmentSatisfaction|JobSatisfaction|WorkLifeBalance|JobInvolvement|PerformanceRating|\n",
      "+----------+---+---------+--------------+----------+----------------+---------+--------------+-------------+------+--------+-------+-------------+-------------+------------------+------+-----------------+-------------+----------------+-----------------+---------------------+--------------+-----------------------+--------------------+-----------------------+---------------+---------------+--------------+-----------------+\n",
      "+----------+---+---------+--------------+----------+----------------+---------+--------------+-------------+------+--------+-------+-------------+-------------+------------------+------+-----------------+-------------+----------------+-----------------+---------------------+--------------+-----------------------+--------------------+-----------------------+---------------+---------------+--------------+-----------------+\n",
      "\n"
     ]
    },
    {
     "name": "stdout",
     "output_type": "stream",
     "text": [
      "+----------+---+---------+--------------+----------+----------------+---------+--------------+-------------+------+--------+-------+-------------+-------------+------------------+------+-----------------+-------------+----------------+-----------------+---------------------+--------------+-----------------------+--------------------+-----------------------+---------------+---------------+--------------+-----------------+\n",
      "|EmployeeID|Age|Attrition|BusinessTravel|Department|DistanceFromHome|Education|EducationField|EmployeeCount|Gender|JobLevel|JobRole|MaritalStatus|MonthlyIncome|NumCompaniesWorked|Over18|PercentSalaryHike|StandardHours|StockOptionLevel|TotalWorkingYears|TrainingTimesLastYear|YearsAtCompany|YearsSinceLastPromotion|YearsWithCurrManager|EnvironmentSatisfaction|JobSatisfaction|WorkLifeBalance|JobInvolvement|PerformanceRating|\n",
      "+----------+---+---------+--------------+----------+----------------+---------+--------------+-------------+------+--------+-------+-------------+-------------+------------------+------+-----------------+-------------+----------------+-----------------+---------------------+--------------+-----------------------+--------------------+-----------------------+---------------+---------------+--------------+-----------------+\n",
      "+----------+---+---------+--------------+----------+----------------+---------+--------------+-------------+------+--------+-------+-------------+-------------+------------------+------+-----------------+-------------+----------------+-----------------+---------------------+--------------+-----------------------+--------------------+-----------------------+---------------+---------------+--------------+-----------------+\n",
      "\n",
      "+----------+---+---------+--------------+----------+----------------+---------+--------------+-------------+------+--------+-------+-------------+-------------+------------------+------+-----------------+-------------+----------------+-----------------+---------------------+--------------+-----------------------+--------------------+-----------------------+---------------+---------------+--------------+-----------------+\n",
      "|EmployeeID|Age|Attrition|BusinessTravel|Department|DistanceFromHome|Education|EducationField|EmployeeCount|Gender|JobLevel|JobRole|MaritalStatus|MonthlyIncome|NumCompaniesWorked|Over18|PercentSalaryHike|StandardHours|StockOptionLevel|TotalWorkingYears|TrainingTimesLastYear|YearsAtCompany|YearsSinceLastPromotion|YearsWithCurrManager|EnvironmentSatisfaction|JobSatisfaction|WorkLifeBalance|JobInvolvement|PerformanceRating|\n",
      "+----------+---+---------+--------------+----------+----------------+---------+--------------+-------------+------+--------+-------+-------------+-------------+------------------+------+-----------------+-------------+----------------+-----------------+---------------------+--------------+-----------------------+--------------------+-----------------------+---------------+---------------+--------------+-----------------+\n",
      "+----------+---+---------+--------------+----------+----------------+---------+--------------+-------------+------+--------+-------+-------------+-------------+------------------+------+-----------------+-------------+----------------+-----------------+---------------------+--------------+-----------------------+--------------------+-----------------------+---------------+---------------+--------------+-----------------+\n",
      "\n",
      "+----------+---+---------+--------------+----------+----------------+---------+--------------+-------------+------+--------+-------+-------------+-------------+------------------+------+-----------------+-------------+----------------+-----------------+---------------------+--------------+-----------------------+--------------------+-----------------------+---------------+---------------+--------------+-----------------+\n",
      "|EmployeeID|Age|Attrition|BusinessTravel|Department|DistanceFromHome|Education|EducationField|EmployeeCount|Gender|JobLevel|JobRole|MaritalStatus|MonthlyIncome|NumCompaniesWorked|Over18|PercentSalaryHike|StandardHours|StockOptionLevel|TotalWorkingYears|TrainingTimesLastYear|YearsAtCompany|YearsSinceLastPromotion|YearsWithCurrManager|EnvironmentSatisfaction|JobSatisfaction|WorkLifeBalance|JobInvolvement|PerformanceRating|\n",
      "+----------+---+---------+--------------+----------+----------------+---------+--------------+-------------+------+--------+-------+-------------+-------------+------------------+------+-----------------+-------------+----------------+-----------------+---------------------+--------------+-----------------------+--------------------+-----------------------+---------------+---------------+--------------+-----------------+\n",
      "+----------+---+---------+--------------+----------+----------------+---------+--------------+-------------+------+--------+-------+-------------+-------------+------------------+------+-----------------+-------------+----------------+-----------------+---------------------+--------------+-----------------------+--------------------+-----------------------+---------------+---------------+--------------+-----------------+\n",
      "\n",
      "+----------+---+---------+--------------+----------+----------------+---------+--------------+-------------+------+--------+-------+-------------+-------------+------------------+------+-----------------+-------------+----------------+-----------------+---------------------+--------------+-----------------------+--------------------+-----------------------+---------------+---------------+--------------+-----------------+\n",
      "|EmployeeID|Age|Attrition|BusinessTravel|Department|DistanceFromHome|Education|EducationField|EmployeeCount|Gender|JobLevel|JobRole|MaritalStatus|MonthlyIncome|NumCompaniesWorked|Over18|PercentSalaryHike|StandardHours|StockOptionLevel|TotalWorkingYears|TrainingTimesLastYear|YearsAtCompany|YearsSinceLastPromotion|YearsWithCurrManager|EnvironmentSatisfaction|JobSatisfaction|WorkLifeBalance|JobInvolvement|PerformanceRating|\n",
      "+----------+---+---------+--------------+----------+----------------+---------+--------------+-------------+------+--------+-------+-------------+-------------+------------------+------+-----------------+-------------+----------------+-----------------+---------------------+--------------+-----------------------+--------------------+-----------------------+---------------+---------------+--------------+-----------------+\n",
      "+----------+---+---------+--------------+----------+----------------+---------+--------------+-------------+------+--------+-------+-------------+-------------+------------------+------+-----------------+-------------+----------------+-----------------+---------------------+--------------+-----------------------+--------------------+-----------------------+---------------+---------------+--------------+-----------------+\n",
      "\n",
      "+----------+---+---------+-----------------+--------------------+----------------+---------+----------------+-------------+------+--------+--------------------+-------------+-------------+------------------+------+-----------------+-------------+----------------+-----------------+---------------------+--------------+-----------------------+--------------------+-----------------------+---------------+---------------+--------------+-----------------+\n",
      "|EmployeeID|Age|Attrition|   BusinessTravel|          Department|DistanceFromHome|Education|  EducationField|EmployeeCount|Gender|JobLevel|             JobRole|MaritalStatus|MonthlyIncome|NumCompaniesWorked|Over18|PercentSalaryHike|StandardHours|StockOptionLevel|TotalWorkingYears|TrainingTimesLastYear|YearsAtCompany|YearsSinceLastPromotion|YearsWithCurrManager|EnvironmentSatisfaction|JobSatisfaction|WorkLifeBalance|JobInvolvement|PerformanceRating|\n",
      "+----------+---+---------+-----------------+--------------------+----------------+---------+----------------+-------------+------+--------+--------------------+-------------+-------------+------------------+------+-----------------+-------------+----------------+-----------------+---------------------+--------------+-----------------------+--------------------+-----------------------+---------------+---------------+--------------+-----------------+\n",
      "|       116| 27|       No|    Travel_Rarely|               Sales|               2|        3|   Life Sciences|            1|  Male|       1|     Sales Executive|     Divorced|        23670|              null|     Y|               12|            8|               1|                5|                    2|             5|                      0|                   4|                      4|              2|              3|             3|                3|\n",
      "|       211| 52|       No|    Travel_Rarely|               Sales|               2|        1|         Medical|            1|  Male|       1|Laboratory Techni...|     Divorced|        99800|              null|     Y|               11|            8|               1|               18|                    2|            10|                      6|                   9|                      4|              1|              3|             3|                3|\n",
      "|       344| 40|       No|Travel_Frequently|               Sales|               9|        3|       Marketing|            1|  Male|       3|Manufacturing Dir...|       Single|        22380|              null|     Y|               14|            8|               0|               10|                    3|             1|                      0|                   0|                      1|              3|              3|             3|                3|\n",
      "|       477| 22|       No|    Travel_Rarely|Research & Develo...|               8|        3|           Other|            1|  Male|       2|Sales Representative|      Married|        49070|              null|     Y|               21|            8|               1|                4|                    2|             4|                      1|                   1|                      2|              1|              2|             3|                4|\n",
      "|       648| 29|       No|    Travel_Rarely|Research & Develo...|               3|        3|Technical Degree|            1|Female|       2|Healthcare Repres...|     Divorced|        48050|              null|     Y|               16|            8|               1|                9|                    2|             7|                      1|                   7|                      4|              4|              2|             3|                3|\n",
      "|       800| 29|      Yes|Travel_Frequently|Research & Develo...|              28|        3|         Medical|            1|Female|       5|  Research Scientist|       Single|        44340|              null|     Y|               17|            8|               3|                7|                    1|             5|                      0|                   0|                      1|              2|              1|             3|                3|\n",
      "|       933| 32|       No|    Travel_Rarely|Research & Develo...|               5|        4|Technical Degree|            1|  Male|       5|  Research Scientist|     Divorced|        50030|              null|     Y|               13|            8|               0|               10|                    5|             9|                      1|                   6|                      4|              2|              2|             3|                3|\n",
      "|      1104| 26|       No|Travel_Frequently|               Sales|              16|        2|   Life Sciences|            1|  Male|       2|Healthcare Repres...|      Married|        83800|              null|     Y|               14|            8|               0|                8|                    3|             7|                      7|                   7|                      3|              4|              3|             4|                3|\n",
      "|      1313| 37|      Yes|    Travel_Rarely|     Human Resources|               9|        3| Human Resources|            1|  Male|       2|Healthcare Repres...|     Divorced|        54840|              null|     Y|               17|            8|               0|                7|                    4|             3|                      0|                   2|                      3|              1|              3|             3|                3|\n",
      "|      1522| 31|       No|    Travel_Rarely|Research & Develo...|              20|        1|Technical Degree|            1|Female|       3|  Research Scientist|      Married|        99070|              null|     Y|               13|            8|               1|                6|                    3|             5|                      0|                   3|                      3|              4|              3|             2|                3|\n",
      "|      1712| 33|       No|    Travel_Rarely|               Sales|              13|        4|       Marketing|            1|Female|       2|Manufacturing Dir...|     Divorced|        45680|              null|     Y|               18|            8|               1|                6|                    2|             5|                      1|                   2|                      3|              3|              3|             3|                3|\n",
      "|      1997| 38|       No|    Travel_Rarely|Research & Develo...|               5|        3|Technical Degree|            1|  Male|       1|     Sales Executive|      Married|        63490|              null|     Y|               11|            8|               0|               20|                    3|            19|                      1|                   9|                      3|              3|              2|             3|                3|\n",
      "|      2366| 18|      Yes|Travel_Frequently|Research & Develo...|               3|        5|         Medical|            1|  Male|       1|   Research Director|       Single|        24790|              null|     Y|               12|            8|               1|                0|                    2|             0|                      0|                   0|                      2|              4|              4|             2|                3|\n",
      "|      2697| 28|      Yes|    Travel_Rarely|Research & Develo...|               1|        4|   Life Sciences|            1|  Male|       5|   Research Director|       Single|       100960|              null|     Y|               13|            8|               0|                6|                    2|             4|                      0|                   3|                      3|              3|              3|             3|                3|\n",
      "|      3064| 30|       No|    Travel_Rarely|Research & Develo...|               3|        3|   Life Sciences|            1|Female|       2|             Manager|      Married|        59680|              null|     Y|               13|            8|               0|                1|                    3|             1|                      0|                   0|                      3|              2|              3|             3|                3|\n",
      "|      3534| 56|       No|    Travel_Rarely|Research & Develo...|               3|        2|           Other|            1|  Male|       2|Healthcare Repres...|     Divorced|        44490|              null|     Y|               15|            8|               0|               28|                    3|             5|                      4|                   2|                      4|              1|              3|             1|                3|\n",
      "|      3911| 41|       No|       Non-Travel|               Sales|               2|        2|         Medical|            1|  Male|       2|  Research Scientist|      Married|       107980|              null|     Y|               14|            8|               2|               10|                    5|             3|                      1|                   2|                      3|              2|              3|             1|                3|\n",
      "|      4227| 36|       No|    Travel_Rarely|Research & Develo...|               2|        3|   Life Sciences|            1|  Male|       2|Sales Representative|      Married|        43200|              null|     Y|               17|            8|               0|                5|                    2|             1|                      0|                   0|                      2|              4|              3|             3|                3|\n",
      "|      4396| 40|       No|    Travel_Rarely|Research & Develo...|               2|        3|   Life Sciences|            1|  Male|       1|Manufacturing Dir...|     Divorced|        27180|              null|     Y|               14|            8|               1|                9|                    4|             9|                      4|                   7|                      1|              4|              3|             2|                3|\n",
      "+----------+---+---------+-----------------+--------------------+----------------+---------+----------------+-------------+------+--------+--------------------+-------------+-------------+------------------+------+-----------------+-------------+----------------+-----------------+---------------------+--------------+-----------------------+--------------------+-----------------------+---------------+---------------+--------------+-----------------+\n",
      "\n",
      "+----------+---+---------+--------------+----------+----------------+---------+--------------+-------------+------+--------+-------+-------------+-------------+------------------+------+-----------------+-------------+----------------+-----------------+---------------------+--------------+-----------------------+--------------------+-----------------------+---------------+---------------+--------------+-----------------+\n",
      "|EmployeeID|Age|Attrition|BusinessTravel|Department|DistanceFromHome|Education|EducationField|EmployeeCount|Gender|JobLevel|JobRole|MaritalStatus|MonthlyIncome|NumCompaniesWorked|Over18|PercentSalaryHike|StandardHours|StockOptionLevel|TotalWorkingYears|TrainingTimesLastYear|YearsAtCompany|YearsSinceLastPromotion|YearsWithCurrManager|EnvironmentSatisfaction|JobSatisfaction|WorkLifeBalance|JobInvolvement|PerformanceRating|\n",
      "+----------+---+---------+--------------+----------+----------------+---------+--------------+-------------+------+--------+-------+-------------+-------------+------------------+------+-----------------+-------------+----------------+-----------------+---------------------+--------------+-----------------------+--------------------+-----------------------+---------------+---------------+--------------+-----------------+\n",
      "+----------+---+---------+--------------+----------+----------------+---------+--------------+-------------+------+--------+-------+-------------+-------------+------------------+------+-----------------+-------------+----------------+-----------------+---------------------+--------------+-----------------------+--------------------+-----------------------+---------------+---------------+--------------+-----------------+\n",
      "\n"
     ]
    },
    {
     "name": "stdout",
     "output_type": "stream",
     "text": [
      "+----------+---+---------+--------------+----------+----------------+---------+--------------+-------------+------+--------+-------+-------------+-------------+------------------+------+-----------------+-------------+----------------+-----------------+---------------------+--------------+-----------------------+--------------------+-----------------------+---------------+---------------+--------------+-----------------+\n",
      "|EmployeeID|Age|Attrition|BusinessTravel|Department|DistanceFromHome|Education|EducationField|EmployeeCount|Gender|JobLevel|JobRole|MaritalStatus|MonthlyIncome|NumCompaniesWorked|Over18|PercentSalaryHike|StandardHours|StockOptionLevel|TotalWorkingYears|TrainingTimesLastYear|YearsAtCompany|YearsSinceLastPromotion|YearsWithCurrManager|EnvironmentSatisfaction|JobSatisfaction|WorkLifeBalance|JobInvolvement|PerformanceRating|\n",
      "+----------+---+---------+--------------+----------+----------------+---------+--------------+-------------+------+--------+-------+-------------+-------------+------------------+------+-----------------+-------------+----------------+-----------------+---------------------+--------------+-----------------------+--------------------+-----------------------+---------------+---------------+--------------+-----------------+\n",
      "+----------+---+---------+--------------+----------+----------------+---------+--------------+-------------+------+--------+-------+-------------+-------------+------------------+------+-----------------+-------------+----------------+-----------------+---------------------+--------------+-----------------------+--------------------+-----------------------+---------------+---------------+--------------+-----------------+\n",
      "\n",
      "+----------+---+---------+--------------+----------+----------------+---------+--------------+-------------+------+--------+-------+-------------+-------------+------------------+------+-----------------+-------------+----------------+-----------------+---------------------+--------------+-----------------------+--------------------+-----------------------+---------------+---------------+--------------+-----------------+\n",
      "|EmployeeID|Age|Attrition|BusinessTravel|Department|DistanceFromHome|Education|EducationField|EmployeeCount|Gender|JobLevel|JobRole|MaritalStatus|MonthlyIncome|NumCompaniesWorked|Over18|PercentSalaryHike|StandardHours|StockOptionLevel|TotalWorkingYears|TrainingTimesLastYear|YearsAtCompany|YearsSinceLastPromotion|YearsWithCurrManager|EnvironmentSatisfaction|JobSatisfaction|WorkLifeBalance|JobInvolvement|PerformanceRating|\n",
      "+----------+---+---------+--------------+----------+----------------+---------+--------------+-------------+------+--------+-------+-------------+-------------+------------------+------+-----------------+-------------+----------------+-----------------+---------------------+--------------+-----------------------+--------------------+-----------------------+---------------+---------------+--------------+-----------------+\n",
      "+----------+---+---------+--------------+----------+----------------+---------+--------------+-------------+------+--------+-------+-------------+-------------+------------------+------+-----------------+-------------+----------------+-----------------+---------------------+--------------+-----------------------+--------------------+-----------------------+---------------+---------------+--------------+-----------------+\n",
      "\n",
      "+----------+---+---------+--------------+----------+----------------+---------+--------------+-------------+------+--------+-------+-------------+-------------+------------------+------+-----------------+-------------+----------------+-----------------+---------------------+--------------+-----------------------+--------------------+-----------------------+---------------+---------------+--------------+-----------------+\n",
      "|EmployeeID|Age|Attrition|BusinessTravel|Department|DistanceFromHome|Education|EducationField|EmployeeCount|Gender|JobLevel|JobRole|MaritalStatus|MonthlyIncome|NumCompaniesWorked|Over18|PercentSalaryHike|StandardHours|StockOptionLevel|TotalWorkingYears|TrainingTimesLastYear|YearsAtCompany|YearsSinceLastPromotion|YearsWithCurrManager|EnvironmentSatisfaction|JobSatisfaction|WorkLifeBalance|JobInvolvement|PerformanceRating|\n",
      "+----------+---+---------+--------------+----------+----------------+---------+--------------+-------------+------+--------+-------+-------------+-------------+------------------+------+-----------------+-------------+----------------+-----------------+---------------------+--------------+-----------------------+--------------------+-----------------------+---------------+---------------+--------------+-----------------+\n",
      "+----------+---+---------+--------------+----------+----------------+---------+--------------+-------------+------+--------+-------+-------------+-------------+------------------+------+-----------------+-------------+----------------+-----------------+---------------------+--------------+-----------------------+--------------------+-----------------------+---------------+---------------+--------------+-----------------+\n",
      "\n",
      "+----------+---+---------+-----------------+--------------------+----------------+---------+--------------+-------------+------+--------+--------------------+-------------+-------------+------------------+------+-----------------+-------------+----------------+-----------------+---------------------+--------------+-----------------------+--------------------+-----------------------+---------------+---------------+--------------+-----------------+\n",
      "|EmployeeID|Age|Attrition|   BusinessTravel|          Department|DistanceFromHome|Education|EducationField|EmployeeCount|Gender|JobLevel|             JobRole|MaritalStatus|MonthlyIncome|NumCompaniesWorked|Over18|PercentSalaryHike|StandardHours|StockOptionLevel|TotalWorkingYears|TrainingTimesLastYear|YearsAtCompany|YearsSinceLastPromotion|YearsWithCurrManager|EnvironmentSatisfaction|JobSatisfaction|WorkLifeBalance|JobInvolvement|PerformanceRating|\n",
      "+----------+---+---------+-----------------+--------------------+----------------+---------+--------------+-------------+------+--------+--------------------+-------------+-------------+------------------+------+-----------------+-------------+----------------+-----------------+---------------------+--------------+-----------------------+--------------------+-----------------------+---------------+---------------+--------------+-----------------+\n",
      "|        24| 42|       No|    Travel_Rarely|Research & Develo...|               4|        4| Life Sciences|            1|  Male|       1|Manufacturing Dir...|      Married|        89260|                 1|     Y|               14|            8|               0|             null|                    4|            20|                     11|                   6|                      2|              3|              3|             1|                3|\n",
      "|       138| 43|       No|Travel_Frequently|               Sales|              14|        3| Life Sciences|            1|Female|       1|Manufacturing Dir...|      Married|        37480|                 7|     Y|               14|            8|               2|             null|                    3|             3|                      1|                   2|                      4|              4|              3|             2|                3|\n",
      "|       309| 47|      Yes|Travel_Frequently|Research & Develo...|               4|        3| Life Sciences|            1|  Male|       1|   Research Director|       Single|        27740|                 4|     Y|               13|            8|               1|             null|                    2|             5|                      1|                   3|                      2|              3|              3|             3|                3|\n",
      "|       575| 37|       No|    Travel_Rarely|Research & Develo...|              23|        3| Life Sciences|            1|  Male|       3|Manufacturing Dir...|     Divorced|       166590|                 7|     Y|               16|            8|               1|             null|                    2|             6|                      1|                   3|                      3|              4|              3|             3|                3|\n",
      "|      1518| 36|       No|       Non-Travel|Research & Develo...|               5|        4| Life Sciences|            1|  Male|       1|     Sales Executive|      Married|        85780|                 7|     Y|               21|            8|               0|             null|                    4|             9|                      0|                   8|                      2|              2|              3|             3|                4|\n",
      "|      2368| 39|       No|    Travel_Rarely|               Sales|               2|        4| Life Sciences|            1|  Male|       1|Laboratory Techni...|     Divorced|        72640|                 0|     Y|               17|            8|               0|             null|                    5|            10|                      0|                   7|                      3|              3|              3|             3|                3|\n",
      "|      3121| 35|       No|    Travel_Rarely|Research & Develo...|              12|        2|       Medical|            1|Female|       2|Sales Representative|      Married|        28090|                 4|     Y|               23|            8|               1|             null|                    2|             8|                      0|                   0|                      4|              3|              3|             1|                4|\n",
      "|      3819| 28|      Yes|    Travel_Rarely|     Human Resources|               1|        3|       Medical|            1|Female|       2|Laboratory Techni...|      Married|        24130|                 1|     Y|               16|            8|               1|             null|                    2|             1|                      0|                   0|                      3|              2|              3|             3|                3|\n",
      "|      4410| 40|       No|    Travel_Rarely|Research & Develo...|              28|        3|       Medical|            1|  Male|       2|Laboratory Techni...|     Divorced|        54680|                 0|     Y|               12|            8|               0|             null|                    6|            21|                      3|                   9|                      1|              3|           null|             4|                3|\n",
      "+----------+---+---------+-----------------+--------------------+----------------+---------+--------------+-------------+------+--------+--------------------+-------------+-------------+------------------+------+-----------------+-------------+----------------+-----------------+---------------------+--------------+-----------------------+--------------------+-----------------------+---------------+---------------+--------------+-----------------+\n",
      "\n"
     ]
    },
    {
     "name": "stdout",
     "output_type": "stream",
     "text": [
      "+----------+---+---------+--------------+----------+----------------+---------+--------------+-------------+------+--------+-------+-------------+-------------+------------------+------+-----------------+-------------+----------------+-----------------+---------------------+--------------+-----------------------+--------------------+-----------------------+---------------+---------------+--------------+-----------------+\n",
      "|EmployeeID|Age|Attrition|BusinessTravel|Department|DistanceFromHome|Education|EducationField|EmployeeCount|Gender|JobLevel|JobRole|MaritalStatus|MonthlyIncome|NumCompaniesWorked|Over18|PercentSalaryHike|StandardHours|StockOptionLevel|TotalWorkingYears|TrainingTimesLastYear|YearsAtCompany|YearsSinceLastPromotion|YearsWithCurrManager|EnvironmentSatisfaction|JobSatisfaction|WorkLifeBalance|JobInvolvement|PerformanceRating|\n",
      "+----------+---+---------+--------------+----------+----------------+---------+--------------+-------------+------+--------+-------+-------------+-------------+------------------+------+-----------------+-------------+----------------+-----------------+---------------------+--------------+-----------------------+--------------------+-----------------------+---------------+---------------+--------------+-----------------+\n",
      "+----------+---+---------+--------------+----------+----------------+---------+--------------+-------------+------+--------+-------+-------------+-------------+------------------+------+-----------------+-------------+----------------+-----------------+---------------------+--------------+-----------------------+--------------------+-----------------------+---------------+---------------+--------------+-----------------+\n",
      "\n",
      "+----------+---+---------+--------------+----------+----------------+---------+--------------+-------------+------+--------+-------+-------------+-------------+------------------+------+-----------------+-------------+----------------+-----------------+---------------------+--------------+-----------------------+--------------------+-----------------------+---------------+---------------+--------------+-----------------+\n",
      "|EmployeeID|Age|Attrition|BusinessTravel|Department|DistanceFromHome|Education|EducationField|EmployeeCount|Gender|JobLevel|JobRole|MaritalStatus|MonthlyIncome|NumCompaniesWorked|Over18|PercentSalaryHike|StandardHours|StockOptionLevel|TotalWorkingYears|TrainingTimesLastYear|YearsAtCompany|YearsSinceLastPromotion|YearsWithCurrManager|EnvironmentSatisfaction|JobSatisfaction|WorkLifeBalance|JobInvolvement|PerformanceRating|\n",
      "+----------+---+---------+--------------+----------+----------------+---------+--------------+-------------+------+--------+-------+-------------+-------------+------------------+------+-----------------+-------------+----------------+-----------------+---------------------+--------------+-----------------------+--------------------+-----------------------+---------------+---------------+--------------+-----------------+\n",
      "+----------+---+---------+--------------+----------+----------------+---------+--------------+-------------+------+--------+-------+-------------+-------------+------------------+------+-----------------+-------------+----------------+-----------------+---------------------+--------------+-----------------------+--------------------+-----------------------+---------------+---------------+--------------+-----------------+\n",
      "\n",
      "+----------+---+---------+--------------+----------+----------------+---------+--------------+-------------+------+--------+-------+-------------+-------------+------------------+------+-----------------+-------------+----------------+-----------------+---------------------+--------------+-----------------------+--------------------+-----------------------+---------------+---------------+--------------+-----------------+\n",
      "|EmployeeID|Age|Attrition|BusinessTravel|Department|DistanceFromHome|Education|EducationField|EmployeeCount|Gender|JobLevel|JobRole|MaritalStatus|MonthlyIncome|NumCompaniesWorked|Over18|PercentSalaryHike|StandardHours|StockOptionLevel|TotalWorkingYears|TrainingTimesLastYear|YearsAtCompany|YearsSinceLastPromotion|YearsWithCurrManager|EnvironmentSatisfaction|JobSatisfaction|WorkLifeBalance|JobInvolvement|PerformanceRating|\n",
      "+----------+---+---------+--------------+----------+----------------+---------+--------------+-------------+------+--------+-------+-------------+-------------+------------------+------+-----------------+-------------+----------------+-----------------+---------------------+--------------+-----------------------+--------------------+-----------------------+---------------+---------------+--------------+-----------------+\n",
      "+----------+---+---------+--------------+----------+----------------+---------+--------------+-------------+------+--------+-------+-------------+-------------+------------------+------+-----------------+-------------+----------------+-----------------+---------------------+--------------+-----------------------+--------------------+-----------------------+---------------+---------------+--------------+-----------------+\n",
      "\n",
      "+----------+---+---------+--------------+----------+----------------+---------+--------------+-------------+------+--------+-------+-------------+-------------+------------------+------+-----------------+-------------+----------------+-----------------+---------------------+--------------+-----------------------+--------------------+-----------------------+---------------+---------------+--------------+-----------------+\n",
      "|EmployeeID|Age|Attrition|BusinessTravel|Department|DistanceFromHome|Education|EducationField|EmployeeCount|Gender|JobLevel|JobRole|MaritalStatus|MonthlyIncome|NumCompaniesWorked|Over18|PercentSalaryHike|StandardHours|StockOptionLevel|TotalWorkingYears|TrainingTimesLastYear|YearsAtCompany|YearsSinceLastPromotion|YearsWithCurrManager|EnvironmentSatisfaction|JobSatisfaction|WorkLifeBalance|JobInvolvement|PerformanceRating|\n",
      "+----------+---+---------+--------------+----------+----------------+---------+--------------+-------------+------+--------+-------+-------------+-------------+------------------+------+-----------------+-------------+----------------+-----------------+---------------------+--------------+-----------------------+--------------------+-----------------------+---------------+---------------+--------------+-----------------+\n",
      "+----------+---+---------+--------------+----------+----------------+---------+--------------+-------------+------+--------+-------+-------------+-------------+------------------+------+-----------------+-------------+----------------+-----------------+---------------------+--------------+-----------------------+--------------------+-----------------------+---------------+---------------+--------------+-----------------+\n",
      "\n",
      "+----------+---+---------+-----------------+--------------------+----------------+---------+----------------+-------------+------+--------+--------------------+-------------+-------------+------------------+------+-----------------+-------------+----------------+-----------------+---------------------+--------------+-----------------------+--------------------+-----------------------+---------------+---------------+--------------+-----------------+\n",
      "|EmployeeID|Age|Attrition|   BusinessTravel|          Department|DistanceFromHome|Education|  EducationField|EmployeeCount|Gender|JobLevel|             JobRole|MaritalStatus|MonthlyIncome|NumCompaniesWorked|Over18|PercentSalaryHike|StandardHours|StockOptionLevel|TotalWorkingYears|TrainingTimesLastYear|YearsAtCompany|YearsSinceLastPromotion|YearsWithCurrManager|EnvironmentSatisfaction|JobSatisfaction|WorkLifeBalance|JobInvolvement|PerformanceRating|\n",
      "+----------+---+---------+-----------------+--------------------+----------------+---------+----------------+-------------+------+--------+--------------------+-------------+-------------+------------------+------+-----------------+-------------+----------------+-----------------+---------------------+--------------+-----------------------+--------------------+-----------------------+---------------+---------------+--------------+-----------------+\n",
      "|        12| 36|       No|    Travel_Rarely|Research & Develo...|              28|        1|   Life Sciences|            1|  Male|       1|Laboratory Techni...|      Married|        33770|                 0|     Y|               12|            8|               2|               16|                    2|            15|                     10|                  11|                   null|              4|              3|             3|                3|\n",
      "|       112| 31|       No|    Travel_Rarely|Research & Develo...|               1|        3|   Life Sciences|            1|  Male|       4|     Human Resources|       Single|        28670|                 0|     Y|               24|            8|               0|                3|                    5|             2|                      2|                   2|                   null|              2|              3|             3|                4|\n",
      "|       196| 26|      Yes|Travel_Frequently|Research & Develo...|               2|        1|   Life Sciences|            1|Female|       2|Laboratory Techni...|     Divorced|        59930|                 0|     Y|               12|            8|               0|                8|                    3|             7|                      1|                   0|                   null|              3|              2|             3|                3|\n",
      "|       301| 32|       No|Travel_Frequently|               Sales|               4|        4|   Life Sciences|            1|  Male|       2|     Sales Executive|      Married|       188440|                 1|     Y|               19|            8|               0|               10|                    3|            10|                      4|                   7|                   null|              4|              3|             1|                3|\n",
      "|       406| 21|      Yes|    Travel_Rarely|Research & Develo...|               1|        3|         Medical|            1|  Male|       2|     Sales Executive|       Single|       104000|                 1|     Y|               13|            8|               1|                1|                    2|             1|                      0|                   0|                   null|              4|              2|             3|                3|\n",
      "|       490| 38|       No|    Travel_Rarely|Research & Develo...|              24|        2|           Other|            1|Female|       1|Laboratory Techni...|       Single|        23260|                 8|     Y|               14|            8|               0|               19|                    3|             1|                      0|                   0|                   null|              4|              3|             4|                3|\n",
      "|       679| 45|       No|Travel_Frequently|Research & Develo...|              19|        3|         Medical|            1|  Male|       3|Laboratory Techni...|       Single|        36810|                 3|     Y|               17|            8|               1|               22|                    2|             0|                      0|                   0|                   null|              2|              3|             3|                3|\n",
      "|       847| 29|       No|    Travel_Rarely|Research & Develo...|              23|        4|   Life Sciences|            1|Female|       2|Healthcare Repres...|      Married|        45370|                 6|     Y|               18|            8|               1|                5|                    5|             1|                      0|                   0|                   null|              3|              2|             4|                3|\n",
      "|       910| 35|      Yes|    Travel_Rarely|Research & Develo...|               9|        3|   Life Sciences|            1|  Male|       2|             Manager|     Divorced|       173990|                 6|     Y|               12|            8|               0|                7|                    3|             2|                      2|                   2|                   null|              4|              2|             1|                3|\n",
      "|      1078| 39|       No|    Travel_Rarely|Research & Develo...|               2|        3|Technical Degree|            1|  Male|       3|Healthcare Repres...|     Divorced|       102520|                 8|     Y|               13|            8|               1|                7|                    3|             2|                      2|                   2|                   null|              4|              3|             3|                3|\n",
      "|      1225| 31|       No|    Travel_Rarely|Research & Develo...|               2|        2|         Medical|            1|  Male|       2|Laboratory Techni...|     Divorced|        39750|                 1|     Y|               15|            8|               1|                5|                    3|             5|                      4|                   3|                   null|              3|              2|             3|                3|\n",
      "|      1477| 28|      Yes|    Travel_Rarely|Research & Develo...|              11|        2|         Medical|            1|  Male|       2|     Sales Executive|       Single|        58130|                 2|     Y|               20|            8|               1|                5|                    2|             0|                      0|                   0|                   null|              3|              1|             3|                4|\n",
      "|      1813| 32|       No|    Travel_Rarely|Research & Develo...|               3|        1|         Medical|            1|  Male|       2|Manufacturing Dir...|      Married|       171810|                 1|     Y|               14|            8|               0|               14|                    2|            14|                      6|                   8|                   null|              3|              3|             2|                3|\n",
      "|      2149| 45|       No|Travel_Frequently|Research & Develo...|              19|        3|         Medical|            1|  Male|       3|Laboratory Techni...|       Single|        36810|                 3|     Y|               17|            8|               1|               22|                    2|             0|                      0|                   0|                   null|              2|              3|             3|                3|\n",
      "|      2380| 35|      Yes|    Travel_Rarely|Research & Develo...|               9|        3|   Life Sciences|            1|  Male|       2|             Manager|     Divorced|       173990|                 6|     Y|               12|            8|               0|                7|                    3|             2|                      2|                   2|                   null|              4|              2|             1|                3|\n",
      "|      2569| 41|       No|    Travel_Rarely|Research & Develo...|               5|        3|   Life Sciences|            1|Female|       1|     Sales Executive|      Married|        66230|                 5|     Y|               18|            8|               0|               14|                    3|             5|                      1|                   4|                   null|              2|              3|             3|                3|\n",
      "|      2737| 26|       No|    Travel_Rarely|Research & Develo...|               4|        4|   Life Sciences|            1|Female|       3|     Sales Executive|      Married|        47890|                 7|     Y|               20|            8|               1|                5|                    2|             2|                      0|                   0|                   null|              4|              2|             3|                4|\n",
      "|      2926| 40|       No|    Travel_Rarely|Research & Develo...|               2|        3|   Life Sciences|            1|  Male|       1|Manufacturing Dir...|     Divorced|        27180|                 1|     Y|               14|            8|               1|                9|                    4|             9|                      4|                   7|                   null|              4|              3|             2|                3|\n",
      "|      3115| 34|       No|    Travel_Rarely|               Sales|               8|        2|   Life Sciences|            1|  Male|       1|Laboratory Techni...|     Divorced|        24390|                 3|     Y|               11|            8|               2|               14|                    2|             7|                      5|                   7|                   null|              3|              3|             4|                3|\n",
      "|      3262| 34|       No|    Travel_Rarely|               Sales|               2|        3|       Marketing|            1|  Male|       1|Sales Representative|       Single|       103120|                 1|     Y|               12|            8|               0|                6|                    2|             6|                      1|                   3|                   null|              1|              3|             3|                3|\n",
      "+----------+---+---------+-----------------+--------------------+----------------+---------+----------------+-------------+------+--------+--------------------+-------------+-------------+------------------+------+-----------------+-------------+----------------+-----------------+---------------------+--------------+-----------------------+--------------------+-----------------------+---------------+---------------+--------------+-----------------+\n",
      "only showing top 20 rows\n",
      "\n"
     ]
    },
    {
     "name": "stdout",
     "output_type": "stream",
     "text": [
      "+----------+---+---------+-----------------+--------------------+----------------+---------+----------------+-------------+------+--------+--------------------+-------------+-------------+------------------+------+-----------------+-------------+----------------+-----------------+---------------------+--------------+-----------------------+--------------------+-----------------------+---------------+---------------+--------------+-----------------+\n",
      "|EmployeeID|Age|Attrition|   BusinessTravel|          Department|DistanceFromHome|Education|  EducationField|EmployeeCount|Gender|JobLevel|             JobRole|MaritalStatus|MonthlyIncome|NumCompaniesWorked|Over18|PercentSalaryHike|StandardHours|StockOptionLevel|TotalWorkingYears|TrainingTimesLastYear|YearsAtCompany|YearsSinceLastPromotion|YearsWithCurrManager|EnvironmentSatisfaction|JobSatisfaction|WorkLifeBalance|JobInvolvement|PerformanceRating|\n",
      "+----------+---+---------+-----------------+--------------------+----------------+---------+----------------+-------------+------+--------+--------------------+-------------+-------------+------------------+------+-----------------+-------------+----------------+-----------------+---------------------+--------------+-----------------------+--------------------+-----------------------+---------------+---------------+--------------+-----------------+\n",
      "|        41| 36|       No|Travel_Frequently|Research & Develo...|               8|        3|           Other|            1|Female|       3|     Sales Executive|      Married|        69620|                 4|     Y|               12|            8|               2|                4|                    2|             1|                      0|                   0|                      3|           null|              3|             2|                3|\n",
      "|       125| 26|      Yes|Travel_Frequently|               Sales|              14|        3|   Life Sciences|            1|  Male|       2|             Manager|       Single|        75100|                 0|     Y|               18|            8|               3|                7|                    3|             6|                      0|                   4|                      3|           null|              3|             3|                3|\n",
      "|       314| 26|       No|Travel_Frequently|Research & Develo...|               2|        2|   Life Sciences|            1|  Male|       1|Manufacturing Dir...|     Divorced|        28350|                 3|     Y|               11|            8|               1|                5|                    2|             2|                      2|                   0|                      1|           null|              3|             3|                3|\n",
      "|       587| 30|       No|    Travel_Rarely|Research & Develo...|               7|        2|   Life Sciences|            1|Female|       1|Manufacturing Dir...|      Married|        34480|                 1|     Y|               11|            8|               0|               10|                    3|            10|                      1|                   4|                      3|           null|              3|             3|                3|\n",
      "|       860| 34|       No|    Travel_Rarely|Research & Develo...|               2|        2|   Life Sciences|            1|  Male|       2|  Research Scientist|      Married|        65860|                 9|     Y|               18|            8|               1|                9|                    3|             2|                      2|                   1|                      2|           null|              2|             3|                3|\n",
      "|      1196| 36|       No|    Travel_Rarely|Research & Develo...|              22|        4|   Life Sciences|            1|  Male|       1|Healthcare Repres...|      Married|        29500|                 4|     Y|               14|            8|               0|                8|                    1|             6|                      0|                   0|                      2|           null|              2|             2|                3|\n",
      "|      1469| 42|       No|    Travel_Rarely|               Sales|              18|        2|         Medical|            1|  Male|       1|Laboratory Techni...|     Divorced|        23980|                 0|     Y|               14|            8|               1|               10|                    2|             9|                      7|                   8|                      4|           null|              3|             2|                3|\n",
      "|      1679| 41|       No|    Travel_Rarely|Research & Develo...|              24|        1|   Life Sciences|            1|  Male|       1|   Research Director|      Married|        26610|                 7|     Y|               14|            8|               1|               22|                    2|            18|                     11|                   8|                      2|           null|              3|             3|                3|\n",
      "|      1910| 29|       No|Travel_Frequently|Research & Develo...|              29|        1|   Life Sciences|            1|  Male|       1|Sales Representative|      Married|       192020|                 1|     Y|               12|            8|               0|                3|                    5|             3|                      0|                   2|                      3|           null|              3|             3|                3|\n",
      "|      2183| 27|       No|    Travel_Rarely|Research & Develo...|               2|        3|   Life Sciences|            1|Female|       2|Laboratory Techni...|      Married|        48510|                 8|     Y|               18|            8|               0|                5|                    2|             1|                      0|                   0|                      3|           null|              3|             3|                3|\n",
      "|      2477| 55|       No|    Travel_Rarely|Research & Develo...|               3|        2|   Life Sciences|            1|Female|       1|     Sales Executive|      Married|        73510|                 8|     Y|               20|            8|               1|               34|                    3|             1|                      0|                   0|                      3|           null|              3|             3|                4|\n",
      "|      2708| 53|       No|    Travel_Rarely|               Sales|               2|        1|   Life Sciences|            1|  Male|       5|     Human Resources|     Divorced|        31620|                 4|     Y|               15|            8|               0|               26|                    4|            14|                      4|                   8|                      3|           null|              2|             3|                3|\n",
      "|      2876| 43|       No|       Non-Travel|Research & Develo...|               6|        2|         Medical|            1|  Male|       1|Healthcare Repres...|     Divorced|        20280|                 4|     Y|               20|            8|               1|                7|                    2|             5|                      2|                   2|                      4|           null|              4|             2|                4|\n",
      "|      3086| 41|       No|    Travel_Rarely|Research & Develo...|               7|        3|Technical Degree|            1|Female|       3|  Research Scientist|      Married|        27820|                 1|     Y|               14|            8|               0|               10|                    2|            10|                      0|                   7|                      2|           null|              3|             2|                3|\n",
      "|      3296| 34|       No|    Travel_Rarely|               Sales|               2|        5|   Life Sciences|            1|  Male|       4|  Research Scientist|      Married|        23230|                 0|     Y|               17|            8|               0|                4|                    2|             3|                      0|                   2|                      3|           null|              1|             3|                3|\n",
      "|      3527| 30|       No|    Travel_Rarely|Research & Develo...|               7|        2|   Life Sciences|            1|Female|       1|Manufacturing Dir...|      Married|        34480|                 1|     Y|               11|            8|               0|               10|                    3|            10|                      1|                   4|                      3|           null|              3|             3|                3|\n",
      "|      3779| 40|       No|    Travel_Rarely|               Sales|               5|        5|   Life Sciences|            1|  Male|       1|Manufacturing Dir...|       Single|        52310|                 1|     Y|               12|            8|               2|               21|                    4|            21|                      7|                   7|                      3|           null|              3|             3|                3|\n",
      "|      4031| 40|       No|    Travel_Rarely|Research & Develo...|               3|        3|           Other|            1|  Male|       1|     Sales Executive|     Divorced|        68330|                 2|     Y|               13|            8|               0|               22|                    3|            19|                     11|                  16|                      1|           null|              3|             3|                3|\n",
      "|      4220| 45|       No|    Travel_Rarely|Research & Develo...|               1|        2|         Medical|            1|Female|       1|     Sales Executive|     Divorced|        70830|                 2|     Y|               12|            8|               1|               25|                    5|             1|                      0|                   0|                      2|           null|              3|             3|                3|\n",
      "|      4346| 43|       No|       Non-Travel|Research & Develo...|               6|        2|         Medical|            1|  Male|       1|Healthcare Repres...|     Divorced|        20280|                 4|     Y|               20|            8|               1|                7|                    2|             5|                      2|                   2|                      4|           null|              4|             2|                4|\n",
      "+----------+---+---------+-----------------+--------------------+----------------+---------+----------------+-------------+------+--------+--------------------+-------------+-------------+------------------+------+-----------------+-------------+----------------+-----------------+---------------------+--------------+-----------------------+--------------------+-----------------------+---------------+---------------+--------------+-----------------+\n",
      "\n"
     ]
    },
    {
     "name": "stdout",
     "output_type": "stream",
     "text": [
      "+----------+---+---------+-----------------+--------------------+----------------+---------+----------------+-------------+------+--------+--------------------+-------------+-------------+------------------+------+-----------------+-------------+----------------+-----------------+---------------------+--------------+-----------------------+--------------------+-----------------------+---------------+---------------+--------------+-----------------+\n",
      "|EmployeeID|Age|Attrition|   BusinessTravel|          Department|DistanceFromHome|Education|  EducationField|EmployeeCount|Gender|JobLevel|             JobRole|MaritalStatus|MonthlyIncome|NumCompaniesWorked|Over18|PercentSalaryHike|StandardHours|StockOptionLevel|TotalWorkingYears|TrainingTimesLastYear|YearsAtCompany|YearsSinceLastPromotion|YearsWithCurrManager|EnvironmentSatisfaction|JobSatisfaction|WorkLifeBalance|JobInvolvement|PerformanceRating|\n",
      "+----------+---+---------+-----------------+--------------------+----------------+---------+----------------+-------------+------+--------+--------------------+-------------+-------------+------------------+------+-----------------+-------------+----------------+-----------------+---------------------+--------------+-----------------------+--------------------+-----------------------+---------------+---------------+--------------+-----------------+\n",
      "|        85| 31|       No|    Travel_Rarely|Research & Develo...|               6|        3|         Medical|            1|Female|       3|             Manager|       Single|        81030|                 1|     Y|               15|            8|               1|               11|                    5|            11|                      4|                  10|                      3|              4|           null|             3|                3|\n",
      "|       274| 32|       No|    Travel_Rarely|               Sales|               1|        3|         Medical|            1|  Male|       2|     Sales Executive|       Single|       136640|                 3|     Y|               14|            8|               0|               10|                    6|             7|                      7|                   7|                      3|              4|           null|             3|                3|\n",
      "|       484| 42|       No|    Travel_Rarely|Research & Develo...|              23|        4|           Other|            1|  Male|       1|  Research Scientist|      Married|        23730|                 6|     Y|               14|            8|               1|               21|                    3|             1|                      0|                   0|                      4|              3|           null|             4|                3|\n",
      "|       610| 50|       No|Travel_Frequently|Research & Develo...|              25|        4|   Life Sciences|            1|Female|       2|Healthcare Repres...|      Married|        32020|                 2|     Y|               24|            8|               1|               32|                    2|             2|                      2|                   2|                      4|              1|           null|             3|                4|\n",
      "|       736| 25|       No|    Travel_Rarely|Research & Develo...|               7|        4|   Life Sciences|            1|  Male|       1|     Sales Executive|      Married|        22160|                 2|     Y|               13|            8|               3|                6|                    2|             3|                      1|                   2|                      1|              3|           null|             2|                3|\n",
      "|       862| 38|       No|    Travel_Rarely|               Sales|              14|        2|       Marketing|            1|Female|       1|     Sales Executive|      Married|        41710|                 0|     Y|               23|            8|               0|               10|                    4|             9|                      7|                   7|                      3|              2|           null|             4|                4|\n",
      "|       988| 24|       No|Travel_Frequently|               Sales|               3|        4|       Marketing|            1|  Male|       1|     Sales Executive|      Married|        45080|                 0|     Y|               11|            8|               1|                3|                    5|             2|                      2|                   1|                      1|              4|           null|             3|                3|\n",
      "|      1093| 27|       No|    Travel_Rarely|Research & Develo...|               4|        3|Technical Degree|            1|  Male|       2|Manufacturing Dir...|       Single|        51710|                 0|     Y|               20|            8|               1|                9|                    1|             8|                      0|                   7|                      1|              3|           null|             2|                4|\n",
      "|      1198| 40|       No|    Travel_Rarely|               Sales|              10|        4|   Life Sciences|            1|  Male|       1|  Research Scientist|       Single|        93620|                 2|     Y|               11|            8|               1|                8|                    6|             2|                      2|                   2|                      3|              3|           null|             3|                3|\n",
      "|      1261| 46|       No|Travel_Frequently|Research & Develo...|              20|        3|Technical Degree|            1|  Male|       3|     Sales Executive|       Single|        40350|                 4|     Y|               14|            8|               1|               14|                    2|             9|                      0|                   8|                      1|              4|           null|             3|                3|\n",
      "|      1324| 34|      Yes|Travel_Frequently|     Human Resources|               4|        4|   Life Sciences|            1|Female|       5|     Sales Executive|       Single|        55620|                 1|     Y|               15|            8|               0|                9|                    3|             9|                      0|                   6|                      1|              3|           null|             3|                3|\n",
      "|      1408| 37|       No|    Travel_Rarely|Research & Develo...|               7|        3|   Life Sciences|            1|Female|       1|  Research Scientist|      Married|        29290|                 1|     Y|               12|            8|               0|                8|                    2|             8|                      1|                   7|                      2|              1|           null|             1|                3|\n",
      "|      1471| 51|       No|    Travel_Rarely|               Sales|               6|        2|   Life Sciences|            1|Female|       1|Healthcare Repres...|      Married|       131160|                 1|     Y|               11|            8|               0|                1|                    6|             1|                      0|                   0|                      3|              4|           null|             3|                3|\n",
      "|      1534| 31|       No|    Travel_Rarely|               Sales|              24|        3|   Life Sciences|            1|  Male|       2|Healthcare Repres...|     Divorced|        10810|                 4|     Y|               11|            8|               3|               13|                    4|             7|                      1|                   7|                      4|              4|           null|             4|                3|\n",
      "|      1597| 36|       No|    Travel_Rarely|Research & Develo...|               1|        3|         Medical|            1|Female|       5|Healthcare Repres...|      Married|       196360|                 1|     Y|               12|            8|               1|               10|                    3|            10|                      9|                   0|                      2|              3|           null|             3|                3|\n",
      "|      1660| 35|       No|    Travel_Rarely|Research & Develo...|              22|        3|         Medical|            1|Female|       1|Sales Representative|      Married|        29660|                 9|     Y|               18|            8|               0|               15|                    2|            11|                      6|                   9|                      2|              3|           null|             2|                3|\n",
      "|      1723| 54|       No|    Travel_Rarely|Research & Develo...|               5|        2|   Life Sciences|            1|Female|       2|     Sales Executive|      Married|        40140|                 2|     Y|               19|            8|               1|               16|                    4|             9|                      7|                   1|                      3|              2|           null|             2|                3|\n",
      "|      1786| 26|      Yes|    Travel_Rarely|Research & Develo...|              15|        2|   Life Sciences|            1|  Male|       2|Laboratory Techni...|       Single|        26130|                 6|     Y|               19|            8|               1|                6|                    2|             4|                      1|                   2|                      4|              1|           null|             3|                3|\n",
      "|      1849| 35|      Yes|Travel_Frequently|               Sales|               8|        2|       Marketing|            1|Female|       1|Laboratory Techni...|     Divorced|        36900|                 1|     Y|               13|            8|               1|               10|                    2|            10|                      7|                   8|                      4|              2|           null|             4|                3|\n",
      "|      1912| 52|       No|    Travel_Rarely|Research & Develo...|               5|        4|           Other|            1|  Male|       1|Laboratory Techni...|      Married|        29110|                 2|     Y|               17|            8|               2|               26|                    3|             9|                      7|                   8|                      4|              4|           null|             3|                3|\n",
      "+----------+---+---------+-----------------+--------------------+----------------+---------+----------------+-------------+------+--------+--------------------+-------------+-------------+------------------+------+-----------------+-------------+----------------+-----------------+---------------------+--------------+-----------------------+--------------------+-----------------------+---------------+---------------+--------------+-----------------+\n",
      "only showing top 20 rows\n",
      "\n"
     ]
    },
    {
     "name": "stdout",
     "output_type": "stream",
     "text": [
      "+----------+---+---------+--------------+----------+----------------+---------+--------------+-------------+------+--------+-------+-------------+-------------+------------------+------+-----------------+-------------+----------------+-----------------+---------------------+--------------+-----------------------+--------------------+-----------------------+---------------+---------------+--------------+-----------------+\n",
      "|EmployeeID|Age|Attrition|BusinessTravel|Department|DistanceFromHome|Education|EducationField|EmployeeCount|Gender|JobLevel|JobRole|MaritalStatus|MonthlyIncome|NumCompaniesWorked|Over18|PercentSalaryHike|StandardHours|StockOptionLevel|TotalWorkingYears|TrainingTimesLastYear|YearsAtCompany|YearsSinceLastPromotion|YearsWithCurrManager|EnvironmentSatisfaction|JobSatisfaction|WorkLifeBalance|JobInvolvement|PerformanceRating|\n",
      "+----------+---+---------+--------------+----------+----------------+---------+--------------+-------------+------+--------+-------+-------------+-------------+------------------+------+-----------------+-------------+----------------+-----------------+---------------------+--------------+-----------------------+--------------------+-----------------------+---------------+---------------+--------------+-----------------+\n",
      "+----------+---+---------+--------------+----------+----------------+---------+--------------+-------------+------+--------+-------+-------------+-------------+------------------+------+-----------------+-------------+----------------+-----------------+---------------------+--------------+-----------------------+--------------------+-----------------------+---------------+---------------+--------------+-----------------+\n",
      "\n",
      "+----------+---+---------+--------------+----------+----------------+---------+--------------+-------------+------+--------+-------+-------------+-------------+------------------+------+-----------------+-------------+----------------+-----------------+---------------------+--------------+-----------------------+--------------------+-----------------------+---------------+---------------+--------------+-----------------+\n",
      "|EmployeeID|Age|Attrition|BusinessTravel|Department|DistanceFromHome|Education|EducationField|EmployeeCount|Gender|JobLevel|JobRole|MaritalStatus|MonthlyIncome|NumCompaniesWorked|Over18|PercentSalaryHike|StandardHours|StockOptionLevel|TotalWorkingYears|TrainingTimesLastYear|YearsAtCompany|YearsSinceLastPromotion|YearsWithCurrManager|EnvironmentSatisfaction|JobSatisfaction|WorkLifeBalance|JobInvolvement|PerformanceRating|\n",
      "+----------+---+---------+--------------+----------+----------------+---------+--------------+-------------+------+--------+-------+-------------+-------------+------------------+------+-----------------+-------------+----------------+-----------------+---------------------+--------------+-----------------------+--------------------+-----------------------+---------------+---------------+--------------+-----------------+\n",
      "+----------+---+---------+--------------+----------+----------------+---------+--------------+-------------+------+--------+-------+-------------+-------------+------------------+------+-----------------+-------------+----------------+-----------------+---------------------+--------------+-----------------------+--------------------+-----------------------+---------------+---------------+--------------+-----------------+\n",
      "\n"
     ]
    }
   ],
   "source": [
    "_df.filter(_df.EmployeeID.isNull()).show()\n",
    "_df.filter(_df.Age.isNull()).show()\n",
    "_df.filter(_df.Attrition.isNull()).show()\n",
    "_df.filter(_df.BusinessTravel.isNull()).show()\n",
    "_df.filter(_df.Department.isNull()).show()\n",
    "_df.filter(_df.DistanceFromHome.isNull()).show()\n",
    "_df.filter(_df.Education.isNull()).show()\n",
    "_df.filter(_df.EducationField.isNull()).show()\n",
    "_df.filter(_df.EmployeeCount.isNull()).show()\n",
    "_df.filter(_df.Gender.isNull()).show()\n",
    "_df.filter(_df.JobLevel.isNull()).show()\n",
    "_df.filter(_df.JobRole.isNull()).show()\n",
    "_df.filter(_df.MaritalStatus.isNull()).show()\n",
    "_df.filter(_df.MonthlyIncome.isNull()).show()\n",
    "_df.filter(_df.NumCompaniesWorked.isNull()).show() ###\n",
    "_df.filter(_df.Over18.isNull()).show()\n",
    "_df.filter(_df.PercentSalaryHike.isNull()).show()\n",
    "_df.filter(_df.StandardHours.isNull()).show()\n",
    "_df.filter(_df.StockOptionLevel.isNull()).show()\n",
    "_df.filter(_df.TotalWorkingYears.isNull()).show() ###\n",
    "_df.filter(_df.TrainingTimesLastYear.isNull()).show()\n",
    "_df.filter(_df.YearsAtCompany.isNull()).show()\n",
    "_df.filter(_df.YearsSinceLastPromotion.isNull()).show()\n",
    "_df.filter(_df.YearsWithCurrManager.isNull()).show()\n",
    "_df.filter(_df.EnvironmentSatisfaction.isNull()).show() ###\n",
    "_df.filter(_df.JobSatisfaction.isNull()).show() ###\n",
    "_df.filter(_df.WorkLifeBalance.isNull()).show() ###\n",
    "_df.filter(_df.JobInvolvement.isNull()).show()\n",
    "_df.filter(_df.PerformanceRating.isNull()).show()"
   ]
  },
  {
   "cell_type": "code",
   "execution_count": 14,
   "id": "fce2c86a",
   "metadata": {},
   "outputs": [
    {
     "name": "stdout",
     "output_type": "stream",
     "text": [
      "(4410, 29)\n"
     ]
    }
   ],
   "source": [
    "print((_df.count(), len(_df.columns)))"
   ]
  },
  {
   "cell_type": "code",
   "execution_count": 15,
   "id": "abbc9053",
   "metadata": {},
   "outputs": [],
   "source": [
    "null_df=_df.na.drop()"
   ]
  },
  {
   "cell_type": "code",
   "execution_count": 16,
   "id": "0c8049b3",
   "metadata": {},
   "outputs": [
    {
     "name": "stdout",
     "output_type": "stream",
     "text": [
      "(4300, 29)\n"
     ]
    }
   ],
   "source": [
    "print((null_df.count(), len(null_df.columns)))"
   ]
  },
  {
   "cell_type": "markdown",
   "id": "12fd5aab",
   "metadata": {},
   "source": [
    "## Data Exploration"
   ]
  },
  {
   "cell_type": "code",
   "execution_count": 28,
   "id": "026a46e0",
   "metadata": {},
   "outputs": [],
   "source": [
    "pandas_df = null_df.toPandas()"
   ]
  },
  {
   "cell_type": "markdown",
   "id": "959bab7e",
   "metadata": {},
   "source": [
    "### Attrition Pie Plot"
   ]
  },
  {
   "cell_type": "code",
   "execution_count": 27,
   "id": "e5f0b570",
   "metadata": {},
   "outputs": [
    {
     "data": {
      "image/png": "[encoded data removed]",
      "text/plain": [
       "<Figure size 216x216 with 1 Axes>"
      ]
     },
     "metadata": {},
     "output_type": "display_data"
    }
   ],
   "source": [
    "explode=(0.08,0)\n",
    "\n",
    "pandas_df['Attrition'].value_counts().plot.pie(autopct='%1.2f%%',figsize=(3,3),explode=explode,colors=['#99ff99','#ff6666'])\n",
    "plt.title(\"Pie plot of attrition\", fontsize=14)\n",
    "plt.tight_layout()\n",
    "plt.legend()\n",
    "plt.show()"
   ]
  },
  {
   "cell_type": "markdown",
   "id": "be77c15c",
   "metadata": {},
   "source": [
    "### Ration of Attrition based on Gender"
   ]
  },
  {
   "cell_type": "code",
   "execution_count": 30,
   "id": "db90bd3d",
   "metadata": {},
   "outputs": [
    {
     "name": "stdout",
     "output_type": "stream",
     "text": [
      "  Attrition  Gender  Gender_count\n",
      "0        No  Female          1464\n",
      "1        No    Male          2141\n",
      "2       Yes  Female           265\n",
      "3       Yes    Male           430\n"
     ]
    }
   ],
   "source": [
    "df1 = pandas_df.groupby(['Attrition','Gender']).agg({'Gender':'count'})\n",
    "df1 = df1.rename({'Gender': 'Gender_count'}, axis=1)\n",
    "df1.reset_index(inplace=True)\n",
    "\n",
    "print(df1.head())"
   ]
  },
  {
   "cell_type": "code",
   "execution_count": 31,
   "id": "747d0a5c",
   "metadata": {},
   "outputs": [
    {
     "data": {
      "text/plain": [
       "Text(0.5, 1.0, 'Gender and Attrition')"
      ]
     },
     "execution_count": 31,
     "metadata": {},
     "output_type": "execute_result"
    },
    {
     "data": {
      "text/plain": [
       "<Figure size 720x720 with 0 Axes>"
      ]
     },
     "metadata": {},
     "output_type": "display_data"
    },
    {
     "data": {
      "image/png": "[encoded data removed]",
      "text/plain": [
       "<Figure size 432x288 with 1 Axes>"
      ]
     },
     "metadata": {
      "needs_background": "light"
     },
     "output_type": "display_data"
    }
   ],
   "source": [
    "plt.figure(figsize=(10,10))\n",
    "prd_gender=pd.crosstab(pandas_df['Attrition'],pandas_df['Gender'])\n",
    "\n",
    "ax=prd_gender.plot(kind='bar')\n",
    "plt.xticks(rotation=0)\n",
    "plt.title(\"Gender and Attrition\")"
   ]
  },
  {
   "cell_type": "markdown",
   "id": "35e7976d",
   "metadata": {},
   "source": [
    "### Ratio of Attrition based on Job Satisfaction"
   ]
  },
  {
   "cell_type": "code",
   "execution_count": 32,
   "id": "3f46aa2b",
   "metadata": {},
   "outputs": [
    {
     "name": "stdout",
     "output_type": "stream",
     "text": [
      "  Attrition  JobSatisfaction  JobSatisfaction_count\n",
      "0        No                1                    653\n",
      "1        No                2                    688\n",
      "2        No                3                   1082\n",
      "3        No                4                   1182\n",
      "4       Yes                1                    194\n",
      "5       Yes                2                    135\n",
      "6       Yes                3                    214\n",
      "7       Yes                4                    152\n"
     ]
    }
   ],
   "source": [
    "df1 = pandas_df.groupby(['Attrition','JobSatisfaction']).agg({'JobSatisfaction':'count'})\n",
    "df1 = df1.rename({'JobSatisfaction': 'JobSatisfaction_count'}, axis=1)\n",
    "df1.reset_index(inplace=True)\n",
    "print(df1)"
   ]
  },
  {
   "cell_type": "code",
   "execution_count": 33,
   "id": "f7f00fa0",
   "metadata": {},
   "outputs": [
    {
     "data": {
      "text/plain": [
       "Text(0.5, 1.0, 'Job_Satisfaction vs Attrition')"
      ]
     },
     "execution_count": 33,
     "metadata": {},
     "output_type": "execute_result"
    },
    {
     "data": {
      "text/plain": [
       "<Figure size 720x720 with 0 Axes>"
      ]
     },
     "metadata": {},
     "output_type": "display_data"
    },
    {
     "data": {
      "image/png": "[encoded data removed]",
      "text/plain": [
       "<Figure size 432x288 with 1 Axes>"
      ]
     },
     "metadata": {
      "needs_background": "light"
     },
     "output_type": "display_data"
    }
   ],
   "source": [
    "plt.figure(figsize=(10,10))\n",
    "prd_gender=pd.crosstab(pandas_df['Attrition'],pandas_df['JobSatisfaction'])\n",
    "\n",
    "ax=prd_gender.plot(kind='bar')\n",
    "plt.xticks(rotation=0)\n",
    "plt.title(\"Job_Satisfaction vs Attrition\")"
   ]
  },
  {
   "cell_type": "markdown",
   "id": "ce659229",
   "metadata": {},
   "source": [
    "### Ration of Attrition based on Work Life Balance"
   ]
  },
  {
   "cell_type": "code",
   "execution_count": 34,
   "id": "23c59a82",
   "metadata": {},
   "outputs": [
    {
     "name": "stdout",
     "output_type": "stream",
     "text": [
      "  Attrition  WorkLifeBalance  WorkLifeBalance_count\n",
      "0        No                1                    163\n",
      "1        No                2                    838\n",
      "2        No                3                   2234\n",
      "3        No                4                    370\n",
      "4       Yes                1                     73\n",
      "5       Yes                2                    167\n",
      "6       Yes                3                    375\n",
      "7       Yes                4                     80\n"
     ]
    }
   ],
   "source": [
    "df1 = pandas_df.groupby(['Attrition','WorkLifeBalance']).agg({'WorkLifeBalance':'count'})\n",
    "df1 = df1.rename({'WorkLifeBalance': 'WorkLifeBalance_count'}, axis=1)\n",
    "df1.reset_index(inplace=True)\n",
    "print(df1)"
   ]
  },
  {
   "cell_type": "code",
   "execution_count": 35,
   "id": "d9896bbf",
   "metadata": {},
   "outputs": [
    {
     "data": {
      "text/plain": [
       "Text(0.5, 1.0, 'Work_life_balance vs Attrition')"
      ]
     },
     "execution_count": 35,
     "metadata": {},
     "output_type": "execute_result"
    },
    {
     "data": {
      "text/plain": [
       "<Figure size 720x720 with 0 Axes>"
      ]
     },
     "metadata": {},
     "output_type": "display_data"
    },
    {
     "data": {
      "image/png": "[encoded data removed]",
      "text/plain": [
       "<Figure size 432x288 with 1 Axes>"
      ]
     },
     "metadata": {
      "needs_background": "light"
     },
     "output_type": "display_data"
    }
   ],
   "source": [
    "plt.figure(figsize=(10,10))\n",
    "prd_gender=pd.crosstab(pandas_df['Attrition'],pandas_df['WorkLifeBalance'])\n",
    "\n",
    "ax=prd_gender.plot(kind='bar')\n",
    "plt.xticks(rotation=0)\n",
    "plt.title(\"Work_life_balance vs Attrition\")"
   ]
  },
  {
   "cell_type": "markdown",
   "id": "5cc5a668",
   "metadata": {},
   "source": [
    "### Ration of Attrition based on Age group"
   ]
  },
  {
   "cell_type": "code",
   "execution_count": 36,
   "id": "ff266ac7",
   "metadata": {},
   "outputs": [
    {
     "name": "stdout",
     "output_type": "stream",
     "text": [
      "   Attrition  Age  Age_count\n",
      "0         No   18         11\n",
      "1         No   19          9\n",
      "2         No   20         15\n",
      "3         No   21         21\n",
      "4         No   22         32\n",
      "..       ...  ...        ...\n",
      "77       Yes   52          9\n",
      "78       Yes   53          6\n",
      "79       Yes   55          9\n",
      "80       Yes   56          9\n",
      "81       Yes   58         15\n",
      "\n",
      "[82 rows x 3 columns]\n"
     ]
    }
   ],
   "source": [
    "df1 = pandas_df.groupby(['Attrition','Age']).agg({'Age':'count'})\n",
    "df1 = df1.rename({'Age': 'Age_count'}, axis=1)\n",
    "df1.reset_index(inplace=True)\n",
    "print(df1)"
   ]
  },
  {
   "cell_type": "code",
   "execution_count": 37,
   "id": "e766402b",
   "metadata": {},
   "outputs": [
    {
     "data": {
      "text/plain": [
       "<AxesSubplot:xlabel='Age', ylabel='count'>"
      ]
     },
     "execution_count": 37,
     "metadata": {},
     "output_type": "execute_result"
    },
    {
     "data": {
      "image/png": "[encoded data removed]",
      "text/plain": [
       "<Figure size 864x288 with 1 Axes>"
      ]
     },
     "metadata": {
      "needs_background": "light"
     },
     "output_type": "display_data"
    }
   ],
   "source": [
    "fig_dims=(12,4)\n",
    "fig, ax = plt.subplots(figsize=fig_dims)\n",
    "sns.countplot(x='Age', hue='Attrition', ax=ax, data=pandas_df, edgecolor=sns.color_palette(\"dark\", n_colors=1))"
   ]
  },
  {
   "cell_type": "code",
   "execution_count": 38,
   "id": "d30f621e",
   "metadata": {},
   "outputs": [
    {
     "name": "stdout",
     "output_type": "stream",
     "text": [
      "   Attrition  Age  Age_count\n",
      "0         No   18         11\n",
      "1         No   19          9\n",
      "2         No   20         15\n",
      "3         No   21         21\n",
      "4         No   22         32\n",
      "..       ...  ...        ...\n",
      "77       Yes   52          9\n",
      "78       Yes   53          6\n",
      "79       Yes   55          9\n",
      "80       Yes   56          9\n",
      "81       Yes   58         15\n",
      "\n",
      "[82 rows x 3 columns]\n"
     ]
    }
   ],
   "source": [
    "df1 = pandas_df.groupby(['Attrition','Age']).agg({'Age':'count'})\n",
    "df1 = df1.rename({'Age': 'Age_count'}, axis=1)\n",
    "df1.reset_index(inplace=True)\n",
    "print(df1)"
   ]
  },
  {
   "cell_type": "code",
   "execution_count": 40,
   "id": "a0a73cd2",
   "metadata": {},
   "outputs": [
    {
     "data": {
      "text/plain": [
       "<matplotlib.legend.Legend at 0x7f0ea7d72470>"
      ]
     },
     "execution_count": 40,
     "metadata": {},
     "output_type": "execute_result"
    },
    {
     "data": {
      "image/png": "[encoded data removed]",
      "text/plain": [
       "<Figure size 1440x1296 with 2 Axes>"
      ]
     },
     "metadata": {
      "needs_background": "light"
     },
     "output_type": "display_data"
    }
   ],
   "source": [
    "fig, ax =plt.subplots(2,1,figsize=(20,18))\n",
    "\n",
    "ax[0].bar(df1['Age'].iloc[:43].unique(), df1[\"Age_count\"].iloc[:43])\n",
    "ax[0].bar(df1['Age'].iloc[43:].unique(), df1[\"Age_count\"].iloc[43:])\n",
    "ax[0].set_title(\"Age vs Attrition rate\", fontsize=46)\n",
    "ax[0].set_xlabel('Age', fontsize=25)\n",
    "ax[0].set_ylabel('Age_count', fontsize=25)\n",
    "plt.grid(True)\n",
    "\n",
    "ax[1].plot(df1.Age.iloc[:43], df1.Age_count.iloc[:43], label='Attrition=NO', marker='*')\n",
    "ax[1].plot(df1.Age.iloc[43:], df1.Age_count.iloc[43:], label='Attrition=YES', marker='*')\n",
    "ax[1].set_xlabel('Age', fontsize=25)\n",
    "ax[1].set_ylabel('Age_count', fontsize=25)\n",
    "plt.legend()"
   ]
  },
  {
   "cell_type": "markdown",
   "id": "3b515bcc",
   "metadata": {},
   "source": [
    "## Lable Endocing"
   ]
  },
  {
   "cell_type": "code",
   "execution_count": 43,
   "id": "bfa7e7f9",
   "metadata": {},
   "outputs": [
    {
     "name": "stderr",
     "output_type": "stream",
     "text": [
      "\r",
      "[Stage 43:>                                                         (0 + 1) / 1]\r",
      "\r",
      "                                                                                \r"
     ]
    },
    {
     "name": "stdout",
     "output_type": "stream",
     "text": [
      "+----------+---+---------+-----------------+--------------------+----------------+---------+--------------+-------------+------+--------+--------------------+-------------+-------------+------------------+------+-----------------+-------------+----------------+-----------------+---------------------+--------------+-----------------------+--------------------+-----------------------+---------------+---------------+--------------+-----------------+--------------+-------------------+---------------+-------------------+-----------+------------+------------------+\n",
      "|EmployeeID|Age|Attrition|   BusinessTravel|          Department|DistanceFromHome|Education|EducationField|EmployeeCount|Gender|JobLevel|             JobRole|MaritalStatus|MonthlyIncome|NumCompaniesWorked|Over18|PercentSalaryHike|StandardHours|StockOptionLevel|TotalWorkingYears|TrainingTimesLastYear|YearsAtCompany|YearsSinceLastPromotion|YearsWithCurrManager|EnvironmentSatisfaction|JobSatisfaction|WorkLifeBalance|JobInvolvement|PerformanceRating|AttritionIndex|BusinessTravelIndex|DepartmentIndex|EducationFieldIndex|GenderIndex|JobRoleIndex|MaritalStatusIndex|\n",
      "+----------+---+---------+-----------------+--------------------+----------------+---------+--------------+-------------+------+--------+--------------------+-------------+-------------+------------------+------+-----------------+-------------+----------------+-----------------+---------------------+--------------+-----------------------+--------------------+-----------------------+---------------+---------------+--------------+-----------------+--------------+-------------------+---------------+-------------------+-----------+------------+------------------+\n",
      "|         1| 51|       No|    Travel_Rarely|               Sales|               6|        2| Life Sciences|            1|Female|       1|Healthcare Repres...|      Married|       131160|                 1|     Y|               11|            8|               0|                1|                    6|             1|                      0|                   0|                      3|              4|              2|             3|                3|           0.0|                0.0|            1.0|                0.0|        1.0|         4.0|               0.0|\n",
      "|         2| 31|      Yes|Travel_Frequently|Research & Develo...|              10|        1| Life Sciences|            1|Female|       1|  Research Scientist|       Single|        41890|                 0|     Y|               23|            8|               1|                6|                    3|             5|                      1|                   4|                      3|              2|              4|             2|                4|           1.0|                1.0|            0.0|                0.0|        1.0|         1.0|               1.0|\n",
      "|         3| 32|       No|Travel_Frequently|Research & Develo...|              17|        4|         Other|            1|  Male|       4|     Sales Executive|      Married|       193280|                 1|     Y|               15|            8|               3|                5|                    2|             5|                      0|                   3|                      2|              2|              1|             3|                3|           0.0|                1.0|            0.0|                4.0|        0.0|         0.0|               0.0|\n",
      "|         4| 38|       No|       Non-Travel|Research & Develo...|               2|        5| Life Sciences|            1|  Male|       3|     Human Resources|      Married|        83210|                 3|     Y|               11|            8|               3|               13|                    5|             8|                      7|                   5|                      4|              4|              3|             2|                3|           0.0|                2.0|            0.0|                0.0|        0.0|         8.0|               0.0|\n",
      "|         5| 32|       No|    Travel_Rarely|Research & Develo...|              10|        1|       Medical|            1|  Male|       1|     Sales Executive|       Single|        23420|                 4|     Y|               12|            8|               2|                9|                    2|             6|                      0|                   4|                      4|              1|              3|             3|                3|           0.0|                0.0|            0.0|                1.0|        0.0|         0.0|               1.0|\n",
      "|         6| 46|       No|    Travel_Rarely|Research & Develo...|               8|        3| Life Sciences|            1|Female|       4|   Research Director|      Married|        40710|                 3|     Y|               13|            8|               0|               28|                    5|             7|                      7|                   7|                      3|              2|              2|             3|                3|           0.0|                0.0|            0.0|                0.0|        1.0|         7.0|               0.0|\n",
      "|         7| 28|      Yes|    Travel_Rarely|Research & Develo...|              11|        2|       Medical|            1|  Male|       2|     Sales Executive|       Single|        58130|                 2|     Y|               20|            8|               1|                5|                    2|             0|                      0|                   0|                      1|              3|              1|             3|                4|           1.0|                0.0|            0.0|                1.0|        0.0|         0.0|               1.0|\n",
      "|         8| 29|       No|    Travel_Rarely|Research & Develo...|              18|        3| Life Sciences|            1|  Male|       2|     Sales Executive|      Married|        31430|                 2|     Y|               22|            8|               3|               10|                    2|             0|                      0|                   0|                      1|              2|              3|             3|                4|           0.0|                0.0|            0.0|                0.0|        0.0|         0.0|               0.0|\n",
      "|         9| 31|       No|    Travel_Rarely|Research & Develo...|               1|        3| Life Sciences|            1|  Male|       3|Laboratory Techni...|      Married|        20440|                 0|     Y|               21|            8|               0|               10|                    2|             9|                      7|                   8|                      2|              4|              3|             3|                4|           0.0|                0.0|            0.0|                0.0|        0.0|         2.0|               0.0|\n",
      "|        10| 25|       No|       Non-Travel|Research & Develo...|               7|        4|       Medical|            1|Female|       4|Laboratory Techni...|     Divorced|       134640|                 1|     Y|               13|            8|               1|                6|                    2|             6|                      1|                   5|                      2|              1|              3|             3|                3|           0.0|                2.0|            0.0|                1.0|        1.0|         2.0|               2.0|\n",
      "|        11| 45|       No|    Travel_Rarely|Research & Develo...|              17|        2|       Medical|            1|  Male|       2|Laboratory Techni...|      Married|        79910|                 0|     Y|               13|            8|               2|               21|                    2|            20|                      4|                  10|                      3|              4|              3|             2|                3|           0.0|                0.0|            0.0|                1.0|        0.0|         2.0|               0.0|\n",
      "|        13| 55|       No|    Travel_Rarely|Research & Develo...|              14|        4| Life Sciences|            1|Female|       1|     Sales Executive|       Single|        55380|                 0|     Y|               17|            8|               0|               37|                    2|            36|                      4|                  13|                      4|              1|              3|             3|                3|           0.0|                0.0|            0.0|                0.0|        1.0|         0.0|               1.0|\n",
      "|        14| 47|      Yes|       Non-Travel|Research & Develo...|               1|        1|       Medical|            1|  Male|       1|  Research Scientist|      Married|        57620|                 1|     Y|               11|            8|               2|               10|                    4|            10|                      9|                   9|                      1|              2|              2|             2|                3|           1.0|                2.0|            0.0|                1.0|        0.0|         1.0|               0.0|\n",
      "|        15| 28|       No|    Travel_Rarely|Research & Develo...|               1|        3| Life Sciences|            1|  Male|       1|Manufacturing Dir...|      Married|        25920|                 1|     Y|               14|            8|               0|                5|                    2|             5|                      0|                   4|                      4|              4|              2|             3|                3|           0.0|                0.0|            0.0|                0.0|        0.0|         3.0|               0.0|\n",
      "|        16| 37|       No|    Travel_Rarely|Research & Develo...|               1|        3| Life Sciences|            1|  Male|       2|Healthcare Repres...|      Married|        53460|                 4|     Y|               11|            8|               0|                7|                    2|             5|                      0|                   1|                      3|              4|              4|             3|                3|           0.0|                0.0|            0.0|                0.0|        0.0|         4.0|               0.0|\n",
      "|        17| 21|       No|    Travel_Rarely|Research & Develo...|               3|        2| Life Sciences|            1|  Male|       1|Laboratory Techni...|       Single|        42130|                 1|     Y|               12|            8|               3|                3|                    3|             3|                      1|                   0|                      4|              3|              4|             2|                3|           0.0|                0.0|            0.0|                0.0|        0.0|         2.0|               1.0|\n",
      "|        18| 37|       No|       Non-Travel|Research & Develo...|               1|        3|       Medical|            1|  Male|       2|     Sales Executive|     Divorced|        41270|                 2|     Y|               13|            8|               1|               15|                    2|             5|                      0|                   2|                      1|              4|              3|             3|                3|           0.0|                2.0|            0.0|                1.0|        0.0|         0.0|               2.0|\n",
      "|        19| 35|       No|    Travel_Rarely|               Sales|               7|        4| Life Sciences|            1|  Male|       1|Sales Representative|     Divorced|        24380|                 7|     Y|               16|            8|               0|               10|                    5|             7|                      6|                   2|                      2|              2|              2|             2|                3|           0.0|                0.0|            1.0|                0.0|        0.0|         6.0|               2.0|\n",
      "|        20| 38|       No|    Travel_Rarely|Research & Develo...|               8|        3| Life Sciences|            1|Female|       1|             Manager|     Divorced|        68700|                 1|     Y|               11|            8|               1|                8|                    5|             8|                      7|                   7|                      1|              1|              3|             3|                3|           0.0|                0.0|            0.0|                0.0|        1.0|         5.0|               2.0|\n",
      "|        21| 26|       No|Travel_Frequently|Research & Develo...|               1|        4|         Other|            1|  Male|       2|Laboratory Techni...|     Divorced|       104470|                 1|     Y|               18|            8|               0|                6|                    3|             6|                      1|                   4|                      3|              2|              1|             3|                3|           0.0|                1.0|            0.0|                4.0|        0.0|         2.0|               2.0|\n",
      "+----------+---+---------+-----------------+--------------------+----------------+---------+--------------+-------------+------+--------+--------------------+-------------+-------------+------------------+------+-----------------+-------------+----------------+-----------------+---------------------+--------------+-----------------------+--------------------+-----------------------+---------------+---------------+--------------+-----------------+--------------+-------------------+---------------+-------------------+-----------+------------+------------------+\n",
      "only showing top 20 rows\n",
      "\n"
     ]
    }
   ],
   "source": [
    "Attrition_indexer = StringIndexer(inputCol=\"Attrition\", outputCol=\"AttritionIndex\")\n",
    "BusinessTravel_indexer = StringIndexer(inputCol=\"BusinessTravel\", outputCol=\"BusinessTravelIndex\")\n",
    "Department_indexer = StringIndexer(inputCol=\"Department\", outputCol=\"DepartmentIndex\")\n",
    "EducationField_indexer = StringIndexer(inputCol=\"EducationField\", outputCol=\"EducationFieldIndex\")\n",
    "Gender_indexer = StringIndexer(inputCol=\"Gender\", outputCol=\"GenderIndex\")\n",
    "JobRole_indexer = StringIndexer(inputCol=\"JobRole\", outputCol=\"JobRoleIndex\")\n",
    "MaritalStatus_indexer = StringIndexer(inputCol=\"MaritalStatus\", outputCol=\"MaritalStatusIndex\")\n",
    "\n",
    "\n",
    "indexed_1 = Attrition_indexer.fit(null_df).transform(null_df) \n",
    "indexed_2 = BusinessTravel_indexer.fit(indexed_1).transform(indexed_1) \n",
    "indexed_3 = Department_indexer.fit(indexed_2).transform(indexed_2) \n",
    "indexed_4 = EducationField_indexer.fit(indexed_3).transform(indexed_3) \n",
    "indexed_5 = Gender_indexer.fit(indexed_4).transform(indexed_4) \n",
    "indexed_6 = JobRole_indexer.fit(indexed_5).transform(indexed_5) \n",
    "df = MaritalStatus_indexer.fit(indexed_6).transform(indexed_6) \n",
    "\n",
    "df.show()"
   ]
  },
  {
   "cell_type": "code",
   "execution_count": 46,
   "id": "84f28b11",
   "metadata": {},
   "outputs": [
    {
     "name": "stdout",
     "output_type": "stream",
     "text": [
      "root\n",
      " |-- EmployeeID: integer (nullable = true)\n",
      " |-- Age: integer (nullable = true)\n",
      " |-- Attrition: string (nullable = true)\n",
      " |-- BusinessTravel: string (nullable = true)\n",
      " |-- Department: string (nullable = true)\n",
      " |-- DistanceFromHome: integer (nullable = true)\n",
      " |-- Education: integer (nullable = true)\n",
      " |-- EducationField: string (nullable = true)\n",
      " |-- EmployeeCount: integer (nullable = true)\n",
      " |-- Gender: string (nullable = true)\n",
      " |-- JobLevel: integer (nullable = true)\n",
      " |-- JobRole: string (nullable = true)\n",
      " |-- MaritalStatus: string (nullable = true)\n",
      " |-- MonthlyIncome: integer (nullable = true)\n",
      " |-- NumCompaniesWorked: integer (nullable = true)\n",
      " |-- Over18: string (nullable = true)\n",
      " |-- PercentSalaryHike: integer (nullable = true)\n",
      " |-- StandardHours: integer (nullable = true)\n",
      " |-- StockOptionLevel: integer (nullable = true)\n",
      " |-- TotalWorkingYears: integer (nullable = true)\n",
      " |-- TrainingTimesLastYear: integer (nullable = true)\n",
      " |-- YearsAtCompany: integer (nullable = true)\n",
      " |-- YearsSinceLastPromotion: integer (nullable = true)\n",
      " |-- YearsWithCurrManager: integer (nullable = true)\n",
      " |-- EnvironmentSatisfaction: integer (nullable = true)\n",
      " |-- JobSatisfaction: integer (nullable = true)\n",
      " |-- WorkLifeBalance: integer (nullable = true)\n",
      " |-- JobInvolvement: integer (nullable = true)\n",
      " |-- PerformanceRating: integer (nullable = true)\n",
      " |-- AttritionIndex: double (nullable = false)\n",
      " |-- BusinessTravelIndex: double (nullable = false)\n",
      " |-- DepartmentIndex: double (nullable = false)\n",
      " |-- EducationFieldIndex: double (nullable = false)\n",
      " |-- GenderIndex: double (nullable = false)\n",
      " |-- JobRoleIndex: double (nullable = false)\n",
      " |-- MaritalStatusIndex: double (nullable = false)\n",
      "\n"
     ]
    }
   ],
   "source": [
    "df.printSchema()"
   ]
  },
  {
   "cell_type": "code",
   "execution_count": 49,
   "id": "90bf12fe",
   "metadata": {},
   "outputs": [
    {
     "name": "stdout",
     "output_type": "stream",
     "text": [
      "root\n",
      " |-- EmployeeID: integer (nullable = true)\n",
      " |-- Age: integer (nullable = true)\n",
      " |-- Attrition: string (nullable = true)\n",
      " |-- BusinessTravel: string (nullable = true)\n",
      " |-- Department: string (nullable = true)\n",
      " |-- DistanceFromHome: integer (nullable = true)\n",
      " |-- Education: integer (nullable = true)\n",
      " |-- EducationField: string (nullable = true)\n",
      " |-- EmployeeCount: integer (nullable = true)\n",
      " |-- Gender: string (nullable = true)\n",
      " |-- JobLevel: integer (nullable = true)\n",
      " |-- JobRole: string (nullable = true)\n",
      " |-- MaritalStatus: string (nullable = true)\n",
      " |-- MonthlyIncome: integer (nullable = true)\n",
      " |-- NumCompaniesWorked: integer (nullable = true)\n",
      " |-- Over18: string (nullable = true)\n",
      " |-- PercentSalaryHike: integer (nullable = true)\n",
      " |-- StandardHours: integer (nullable = true)\n",
      " |-- StockOptionLevel: integer (nullable = true)\n",
      " |-- TotalWorkingYears: integer (nullable = true)\n",
      " |-- TrainingTimesLastYear: integer (nullable = true)\n",
      " |-- YearsAtCompany: integer (nullable = true)\n",
      " |-- YearsSinceLastPromotion: integer (nullable = true)\n",
      " |-- YearsWithCurrManager: integer (nullable = true)\n",
      " |-- EnvironmentSatisfaction: integer (nullable = true)\n",
      " |-- JobSatisfaction: integer (nullable = true)\n",
      " |-- WorkLifeBalance: integer (nullable = true)\n",
      " |-- JobInvolvement: integer (nullable = true)\n",
      " |-- PerformanceRating: integer (nullable = true)\n",
      " |-- AttritionIndex: integer (nullable = true)\n",
      " |-- BusinessTravelIndex: integer (nullable = true)\n",
      " |-- DepartmentIndex: integer (nullable = true)\n",
      " |-- EducationFieldIndex: integer (nullable = true)\n",
      " |-- GenderIndex: integer (nullable = true)\n",
      " |-- JobRoleIndex: integer (nullable = true)\n",
      " |-- MaritalStatusIndex: integer (nullable = true)\n",
      "\n"
     ]
    }
   ],
   "source": [
    "\n",
    "df = df.withColumn(\"AttritionIndex\",col(\"AttritionIndex\").cast(IntegerType())) \\\n",
    "    .withColumn(\"BusinessTravelIndex\",col(\"BusinessTravelIndex\").cast(IntegerType())) \\\n",
    "    .withColumn(\"DepartmentIndex\",col(\"DepartmentIndex\").cast(IntegerType())) \\\n",
    "    .withColumn(\"EducationFieldIndex\",col(\"EducationFieldIndex\").cast(IntegerType())) \\\n",
    "    .withColumn(\"GenderIndex\",col(\"GenderIndex\").cast(IntegerType())) \\\n",
    "    .withColumn(\"JobRoleIndex\",col(\"JobRoleIndex\").cast(IntegerType())) \\\n",
    "    .withColumn(\"MaritalStatusIndex\",col(\"MaritalStatusIndex\").cast(IntegerType()))\n",
    "\n",
    "df.printSchema()\n"
   ]
  },
  {
   "cell_type": "code",
   "execution_count": 54,
   "id": "b355cbda",
   "metadata": {},
   "outputs": [
    {
     "name": "stdout",
     "output_type": "stream",
     "text": [
      "root\n",
      " |-- EmployeeID: integer (nullable = true)\n",
      " |-- Age: integer (nullable = true)\n",
      " |-- DistanceFromHome: integer (nullable = true)\n",
      " |-- Education: integer (nullable = true)\n",
      " |-- EmployeeCount: integer (nullable = true)\n",
      " |-- JobLevel: integer (nullable = true)\n",
      " |-- MonthlyIncome: integer (nullable = true)\n",
      " |-- NumCompaniesWorked: integer (nullable = true)\n",
      " |-- PercentSalaryHike: integer (nullable = true)\n",
      " |-- StandardHours: integer (nullable = true)\n",
      " |-- StockOptionLevel: integer (nullable = true)\n",
      " |-- TotalWorkingYears: integer (nullable = true)\n",
      " |-- TrainingTimesLastYear: integer (nullable = true)\n",
      " |-- YearsAtCompany: integer (nullable = true)\n",
      " |-- YearsSinceLastPromotion: integer (nullable = true)\n",
      " |-- YearsWithCurrManager: integer (nullable = true)\n",
      " |-- EnvironmentSatisfaction: integer (nullable = true)\n",
      " |-- JobSatisfaction: integer (nullable = true)\n",
      " |-- WorkLifeBalance: integer (nullable = true)\n",
      " |-- JobInvolvement: integer (nullable = true)\n",
      " |-- PerformanceRating: integer (nullable = true)\n",
      " |-- AttritionIndex: integer (nullable = true)\n",
      " |-- BusinessTravelIndex: integer (nullable = true)\n",
      " |-- DepartmentIndex: integer (nullable = true)\n",
      " |-- EducationFieldIndex: integer (nullable = true)\n",
      " |-- GenderIndex: integer (nullable = true)\n",
      " |-- JobRoleIndex: integer (nullable = true)\n",
      " |-- MaritalStatusIndex: integer (nullable = true)\n",
      "\n"
     ]
    }
   ],
   "source": [
    "cols = (\"Attrition\",\"BusinessTravel\",\"Department\",\"EducationField\",\"Gender\",\"JobRole\",\"MaritalStatus\", \"Over18\")\n",
    "\n",
    "df_index = df.drop(*cols)\n",
    "df_index.printSchema()"
   ]
  },
  {
   "cell_type": "markdown",
   "id": "9d2029c7",
   "metadata": {},
   "source": [
    "## Feature Selection"
   ]
  },
  {
   "cell_type": "code",
   "execution_count": 56,
   "id": "fc8e0c75",
   "metadata": {},
   "outputs": [
    {
     "data": {
      "text/plain": [
       "['EmployeeID',\n",
       " 'Age',\n",
       " 'DistanceFromHome',\n",
       " 'Education',\n",
       " 'EmployeeCount',\n",
       " 'JobLevel',\n",
       " 'MonthlyIncome',\n",
       " 'NumCompaniesWorked',\n",
       " 'PercentSalaryHike',\n",
       " 'StandardHours',\n",
       " 'StockOptionLevel',\n",
       " 'TotalWorkingYears',\n",
       " 'TrainingTimesLastYear',\n",
       " 'YearsAtCompany',\n",
       " 'YearsSinceLastPromotion',\n",
       " 'YearsWithCurrManager',\n",
       " 'EnvironmentSatisfaction',\n",
       " 'JobSatisfaction',\n",
       " 'WorkLifeBalance',\n",
       " 'JobInvolvement',\n",
       " 'PerformanceRating',\n",
       " 'AttritionIndex',\n",
       " 'BusinessTravelIndex',\n",
       " 'DepartmentIndex',\n",
       " 'EducationFieldIndex',\n",
       " 'GenderIndex',\n",
       " 'JobRoleIndex',\n",
       " 'MaritalStatusIndex']"
      ]
     },
     "execution_count": 56,
     "metadata": {},
     "output_type": "execute_result"
    }
   ],
   "source": [
    "df_index.columns"
   ]
  },
  {
   "cell_type": "code",
   "execution_count": 59,
   "id": "eb02a83b",
   "metadata": {},
   "outputs": [
    {
     "name": "stdout",
     "output_type": "stream",
     "text": [
      "+--------------------+-----+\n",
      "|            features|label|\n",
      "+--------------------+-----+\n",
      "|[1.0,51.0,6.0,2.0...|  0.0|\n",
      "|[2.0,31.0,10.0,1....|  1.0|\n",
      "|[3.0,32.0,17.0,4....|  0.0|\n",
      "|[4.0,38.0,2.0,5.0...|  0.0|\n",
      "|[5.0,32.0,10.0,1....|  0.0|\n",
      "|[6.0,46.0,8.0,3.0...|  0.0|\n",
      "|[7.0,28.0,11.0,2....|  1.0|\n",
      "|[8.0,29.0,18.0,3....|  0.0|\n",
      "|[9.0,31.0,1.0,3.0...|  0.0|\n",
      "|[10.0,25.0,7.0,4....|  0.0|\n",
      "|[11.0,45.0,17.0,2...|  0.0|\n",
      "|[13.0,55.0,14.0,4...|  0.0|\n",
      "|[14.0,47.0,1.0,1....|  1.0|\n",
      "|[15.0,28.0,1.0,3....|  0.0|\n",
      "|[16.0,37.0,1.0,3....|  0.0|\n",
      "|[17.0,21.0,3.0,2....|  0.0|\n",
      "|[18.0,37.0,1.0,3....|  0.0|\n",
      "|[19.0,35.0,7.0,4....|  0.0|\n",
      "|[20.0,38.0,8.0,3....|  0.0|\n",
      "|[21.0,26.0,1.0,4....|  0.0|\n",
      "+--------------------+-----+\n",
      "only showing top 20 rows\n",
      "\n"
     ]
    }
   ],
   "source": [
    "formula = RFormula(\n",
    "    formula=\"AttritionIndex ~ EmployeeID + Age + DistanceFromHome + Education + EmployeeCount + JobLevel + MonthlyIncome + NumCompaniesWorked + PercentSalaryHike + StandardHours + StockOptionLevel + TotalWorkingYears + TrainingTimesLastYear + YearsAtCompany + YearsSinceLastPromotion + YearsWithCurrManager + EnvironmentSatisfaction + JobSatisfaction + PerformanceRating + BusinessTravelIndex + DepartmentIndex + EducationFieldIndex + GenderIndex + JobRoleIndex + MaritalStatusIndex\",\n",
    "    featuresCol=\"features\",\n",
    "    labelCol=\"label\")\n",
    "\n",
    "output = formula.fit(df_index).transform(df_index)\n",
    "output.select(\"features\", \"label\").show()"
   ]
  },
  {
   "cell_type": "code",
   "execution_count": null,
   "id": "729c56dc",
   "metadata": {},
   "outputs": [],
   "source": []
  }
 ],
 "metadata": {
  "kernelspec": {
   "display_name": "Python 3 (ipykernel)",
   "language": "python",
   "name": "python3"
  },
  "language_info": {
   "codemirror_mode": {
    "name": "ipython",
    "version": 3
   },
   "file_extension": ".py",
   "mimetype": "text/x-python",
   "name": "python",
   "nbconvert_exporter": "python",
   "pygments_lexer": "ipython3",
   "version": "3.10.4"
  }
 },
 "nbformat": 4,
 "nbformat_minor": 5
}
